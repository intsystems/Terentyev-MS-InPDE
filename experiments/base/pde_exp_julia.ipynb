{
 "cells": [
  {
   "cell_type": "code",
   "execution_count": null,
   "metadata": {},
   "outputs": [],
   "source": [
    "using NeuralPDE, Lux, ModelingToolkit, Optimization, OptimizationOptimJL\n",
    "using ModelingToolkit: Interval\n",
    "using Plots\n",
    "\n"
   ]
  },
  {
   "cell_type": "markdown",
   "metadata": {},
   "source": [
    "## Решение волнового уравнения на плоскости"
   ]
  },
  {
   "cell_type": "code",
   "execution_count": null,
   "metadata": {},
   "outputs": [],
   "source": [
    "@parameters x y\n",
    "@variables u(..)\n",
    "Dxx = Differential(x)^2\n",
    "Dyy = Differential(y)^2\n",
    "\n",
    "# 2D PDE\n",
    "eq = Dxx(u(x, y)) + Dyy(u(x, y)) ~ -sin(pi * x) * sin(pi * y)\n",
    "\n",
    "# Boundary conditions\n",
    "bcs = [u(0, y) ~ 0.0, u(1, y) ~ 0.0,\n",
    "    u(x, 0) ~ 0.0, u(x, 1) ~ 0.0]\n",
    "# Space and time domains\n",
    "domains = [x ∈ Interval(0.0, 1.0),\n",
    "    y ∈ Interval(0.0, 1.0)]"
   ]
  },
  {
   "cell_type": "code",
   "execution_count": null,
   "metadata": {},
   "outputs": [],
   "source": [
    "# Neural network\n",
    "dim = 2 # number of dimensions\n",
    "chain = Chain(Dense(dim, 16, σ), Dense(16, 16, σ), Dense(16, 1))"
   ]
  },
  {
   "cell_type": "code",
   "execution_count": null,
   "metadata": {},
   "outputs": [],
   "source": [
    "discretization = PhysicsInformedNN(\n",
    "    chain, QuadratureTraining(; batch = 200, abstol = 1e-6, reltol = 1e-6))"
   ]
  },
  {
   "cell_type": "code",
   "execution_count": null,
   "metadata": {},
   "outputs": [],
   "source": [
    "@named pde_system = PDESystem(eq, bcs, domains, [x, y], [u(x, y)])\n",
    "prob = discretize(pde_system, discretization)"
   ]
  },
  {
   "cell_type": "code",
   "execution_count": null,
   "metadata": {},
   "outputs": [],
   "source": [
    "#Optimizer\n",
    "opt = OptimizationOptimJL.LBFGS(linesearch = BackTracking())\n",
    "\n",
    "callback = function (p, l)\n",
    "    println(\"Current loss is: $l\")\n",
    "    return false\n",
    "end\n",
    "\n",
    "# We can pass the callback function in the solve. Not doing here as the output would be very long.\n",
    "res = Optimization.solve(prob, opt, maxiters = 1000, callback = callback)\n",
    "phi = discretization.phi"
   ]
  },
  {
   "cell_type": "code",
   "execution_count": null,
   "metadata": {},
   "outputs": [],
   "source": [
    "dx = 0.05\n",
    "xs, ys = [infimum(d.domain):(dx / 10):supremum(d.domain) for d in domains]\n",
    "analytic_sol_func(x, y) = (sin(pi * x) * sin(pi * y)) / (2pi^2)\n",
    "\n",
    "u_predict = reshape([first(phi([x, y], res.u)) for x in xs for y in ys],\n",
    "    (length(xs), length(ys)))\n",
    "u_real = reshape([analytic_sol_func(x, y) for x in xs for y in ys],\n",
    "    (length(xs), length(ys)))\n",
    "diff_u = abs.(u_predict .- u_real)\n",
    "\n",
    "p1 = plot(xs, ys, u_real, linetype = :contourf, title = \"analytic\");\n",
    "p2 = plot(xs, ys, u_predict, linetype = :contourf, title = \"predict\");\n",
    "p3 = plot(xs, ys, diff_u, linetype = :contourf, title = \"error\");\n",
    "plot(p1, p2, p3)"
   ]
  },
  {
   "cell_type": "markdown",
   "metadata": {},
   "source": [
    "## Решение уравнения для заряда на плоскости"
   ]
  },
  {
   "cell_type": "code",
   "execution_count": null,
   "metadata": {},
   "outputs": [],
   "source": [
    "using NeuralPDE, Lux, ModelingToolkit, Optimization, OptimizationOptimJL, LineSearches,\n",
    "      OptimizationOptimisers, LuxCUDA, Random, ComponentArrays\n",
    "using ModelingToolkit: Interval, infimum, supremum\n",
    "using Distributions"
   ]
  },
  {
   "cell_type": "code",
   "execution_count": null,
   "metadata": {},
   "outputs": [],
   "source": [
    "@parameters t, x, y, z\n",
    "@variables E(..)[1:3], B(..)[1:3]"
   ]
  },
  {
   "cell_type": "code",
   "execution_count": null,
   "metadata": {},
   "outputs": [],
   "source": [
    "Dt = Differential(t)\n",
    "Dtt = Differential(t)^2\n",
    "Dx = Differential(x)\n",
    "Dxx = Differential(x)^2\n",
    "Dy = Differential(y)\n",
    "Dxy = Differential(x) * Differential(y)\n",
    "Dyy = Differential(y)^2\n",
    "Dz = Differential(z)\n",
    "Dxz = Differential(x) * Differential(z)\n",
    "Dzz = Differential(z)^2\n",
    "Dyz = Differential(y) * Differential(z)"
   ]
  },
  {
   "cell_type": "code",
   "execution_count": null,
   "metadata": {},
   "outputs": [],
   "source": [
    "using LinearAlgebra, Symbolics"
   ]
  },
  {
   "cell_type": "code",
   "execution_count": null,
   "metadata": {},
   "outputs": [],
   "source": [
    "function divergence(f)\n",
    "    #return sum(Symbolics.sparsejacobian_vals(f, [x; y; z], [1; 2; 3], [1; 2; 3]))\n",
    "    return Dx(f[1]) + Dy(f[2]) + Dz(f[3])\n",
    "end\n",
    "function rotor(f)\n",
    "    #J = Symbolics.jacobian(f, [x; y; z])\n",
    "    #ex = J[3, 2] - J[2, 3] Dz(f[2]) - Dy(f[3])\n",
    "    #ey = J[1, 3] - J[3, 1] Dz(f[2]) - Dy(f[3])\n",
    "    #ez = J[2, 1] - J[1, 2]\n",
    "    ex = Dz(f[2]) - Dy(f[3])\n",
    "    ey = Dx(f[3]) - Dz(f[1])\n",
    "    ez = Dy(f[1]) - Dx(f[2])\n",
    "    return [ex; ey; ez]\n",
    "end"
   ]
  },
  {
   "cell_type": "code",
   "execution_count": null,
   "metadata": {},
   "outputs": [],
   "source": [
    "@parameters t, x, y, z\n",
    "@variables E(..)[1:3], B(..)[1:3]\n",
    "\n",
    "charge = Distributions.MvNormal([0.5; 0.5; 0.5], [1e-3 0.0 0.0; 0.0 1e-3 0.0; 0.0 0.00 1e-3])\n",
    "rho = (x, y, z) -> Distributions.pdf(charge, [x; y; z])\n"
   ]
  },
  {
   "cell_type": "code",
   "execution_count": null,
   "metadata": {},
   "outputs": [],
   "source": [
    "# 3D PDE\n",
    "eqs = [\n",
    "    divergence(E(x, y, z)) ~ 4 * pi * rho(x, y, z),\n",
    "    divergence(B(x, y, z)) ~ 0.0,\n",
    "    rotor(E(x, y, z)) ~ [0.0; 0.0; 0.0],\n",
    "    rotor(B(x, y, z)) ~ [0.0; 0.0; 0.0],\n",
    "]"
   ]
  },
  {
   "cell_type": "code",
   "execution_count": null,
   "metadata": {},
   "outputs": [],
   "source": [
    "\n",
    "\n",
    "\n",
    "\n",
    "# Boundary conditions\n",
    "bcs = [E(0, y, z) ~ [0.0; 0.0; 0.0], E(1, y, z) ~ [0.0; 0.0; 0.0], \n",
    "    E(x, 0, z) ~ [0.0; 0.0; 0.0], E(x, 1, z) ~ [0.0; 0.0; 0.0],\n",
    "    E(x, y, 0) ~ [0.0; 0.0; 0.0], E(x, y, 0) ~ [0.0; 0.0; 0.0],\n",
    "    B(0, y, z) ~ [0.0; 0.0; 0.0], B(1, y, z) ~ [0.0; 0.0; 0.0], \n",
    "    B(x, 0, z) ~ [0.0; 0.0; 0.0], B(x, 1, z) ~ [0.0; 0.0; 0.0],\n",
    "    B(x, y, 0) ~ [0.0; 0.0; 0.0], B(x, y, 0) ~ [0.0; 0.0; 0.0]]\n",
    "# Space and time domains\n",
    "domains = [x ∈ Interval(0.0, 1.0),\n",
    "    y ∈ Interval(0.0, 1.0),\n",
    "    z ∈ Interval(0.0, 1.0)]"
   ]
  },
  {
   "cell_type": "code",
   "execution_count": null,
   "metadata": {},
   "outputs": [],
   "source": [
    "# Neural network\n",
    "input_ = 3\n",
    "n = 30\n",
    "dim = 3 # number of dimensions\n",
    "chain = [Chain(Dense(input_, n, σ), Dense(n, n, σ), Dense(n, dim)) for _ in 1:2]"
   ]
  },
  {
   "cell_type": "code",
   "execution_count": null,
   "metadata": {},
   "outputs": [],
   "source": [
    "strategy = StochasticTraining(128)\n",
    "discretization = PhysicsInformedNN(chain, StochasticTraining(128))"
   ]
  },
  {
   "cell_type": "code",
   "execution_count": null,
   "metadata": {},
   "outputs": [],
   "source": [
    "@variables u(..)"
   ]
  },
  {
   "cell_type": "code",
   "execution_count": null,
   "metadata": {},
   "outputs": [],
   "source": [
    "@named pde_system = PDESystem(eqs, bcs, domains, [x, y, z], \n",
    "    [E(x, y, z), B(x, y, z)])"
   ]
  },
  {
   "cell_type": "code",
   "execution_count": null,
   "metadata": {},
   "outputs": [],
   "source": [
    "prob = discretize(pde_system, discretization)\n",
    "sym_prob = symbolic_discretize(pdesystem, discretization)"
   ]
  },
  {
   "cell_type": "code",
   "execution_count": null,
   "metadata": {},
   "outputs": [],
   "source": [
    "pde_inner_loss_functions = sym_prob.loss_functions.pde_loss_functions\n",
    "bcs_inner_loss_functions = sym_prob.loss_functions.bc_loss_functions"
   ]
  },
  {
   "cell_type": "code",
   "execution_count": null,
   "metadata": {},
   "outputs": [],
   "source": [
    "callback = function (p, l)\n",
    "    println(\"loss: \", l)\n",
    "    println(\"pde_losses: \", map(l_ -> l_(p.u), pde_inner_loss_functions))\n",
    "    println(\"bcs_losses: \", map(l_ -> l_(p.u), bcs_inner_loss_functions))\n",
    "    return false\n",
    "end"
   ]
  },
  {
   "cell_type": "code",
   "execution_count": null,
   "metadata": {},
   "outputs": [],
   "source": [
    "#Optimizer\n",
    "opt = OptimizationOptimisers.Adam(0.01)\n",
    "\n",
    "# We can pass the callback function in the solve. Not doing here as the output would be very long.\n",
    "res = solve(prob, opt; maxiters = 1000, callback)\n",
    "phi = discretization.phi"
   ]
  },
  {
   "cell_type": "code",
   "execution_count": null,
   "metadata": {},
   "outputs": [],
   "source": [
    "dx = 0.05\n",
    "xs, ys = [infimum(d.domain):(dx / 10):supremum(d.domain) for d in domains]\n",
    "analytic_sol_func(x, y) = (sin(pi * x) * sin(pi * y)) / (2pi^2)\n",
    "\n",
    "u_predict = reshape([first(phi([x, y], res.u)) for x in xs for y in ys],\n",
    "    (length(xs), length(ys)))\n",
    "u_real = reshape([analytic_sol_func(x, y) for x in xs for y in ys],\n",
    "    (length(xs), length(ys)))\n",
    "diff_u = abs.(u_predict .- u_real)\n",
    "\n",
    "p1 = plot(xs, ys, u_real, linetype = :contourf, title = \"analytic\");\n",
    "p2 = plot(xs, ys, u_predict, linetype = :contourf, title = \"predict\");\n",
    "p3 = plot(xs, ys, diff_u, linetype = :contourf, title = \"error\");\n",
    "plot(p1, p2, p3)"
   ]
  },
  {
   "cell_type": "code",
   "execution_count": null,
   "metadata": {},
   "outputs": [],
   "source": [
    "@parameters t, x, y, z\n",
    "@variables Ex(..), Ey(..), Ez(..), Bx(..), By(..), Bz(..)\n",
    "E = [Ex, Ey, Ez]\n",
    "B = [Bx, By, Bz]\n",
    "\n",
    "Dx = Differential(x)\n",
    "Dy = Differential(y)\n",
    "Dz = Differential(z)\n",
    "\n",
    "sigma = 1e-4\n",
    "charge = Distributions.MvNormal([0.; 0.; 0.], [1. 0.0 0.0; 0.0 1. 0.0; 0.0 0.00 1.] * sigma)\n",
    "rho = (x, y, z) -> Distributions.pdf(charge, [x; y; z])\n",
    "\n",
    "function divergence(f)\n",
    "    return Dx(f[1](x, y, z)) + Dy(f[2](x, y, z)) + Dz(f[3](x, y, z))\n",
    "end\n",
    "function rotor(f)\n",
    "    ex = Dz(f[2](x, y, z)) - Dy(f[3](x, y, z))\n",
    "    ey = Dx(f[3](x, y, z)) - Dz(f[1](x, y, z))\n",
    "    ez = Dy(f[1](x, y, z)) - Dx(f[2](x, y, z))\n",
    "    return [ex; ey; ez]\n",
    "end\n"
   ]
  },
  {
   "cell_type": "markdown",
   "metadata": {},
   "source": [
    "### Plot of $\\rho(\\mathbf{r})$ on $Oxy$"
   ]
  },
  {
   "cell_type": "code",
   "execution_count": null,
   "metadata": {},
   "outputs": [],
   "source": [
    "plot(xs, ys, [rho(x, y, 0) for x in xs for y in ys], linetype = :contourf, title = \"predict\")"
   ]
  },
  {
   "cell_type": "code",
   "execution_count": null,
   "metadata": {},
   "outputs": [],
   "source": [
    "savefig(\"plot_rho_$sigma.png\")"
   ]
  },
  {
   "cell_type": "code",
   "execution_count": null,
   "metadata": {},
   "outputs": [],
   "source": [
    "rotor(E)"
   ]
  },
  {
   "cell_type": "code",
   "execution_count": null,
   "metadata": {},
   "outputs": [],
   "source": [
    "function retrv(f, x, y, z)\n",
    "    return [f[1](x,y,z); f[2](x,y,z); f[3](x,y,z)]\n",
    "end"
   ]
  },
  {
   "cell_type": "code",
   "execution_count": null,
   "metadata": {},
   "outputs": [],
   "source": [
    "[(rotor(E)[i] ~ [0.0; 0.0; 0.0][i]) for i in 1:3]"
   ]
  },
  {
   "cell_type": "code",
   "execution_count": null,
   "metadata": {},
   "outputs": [],
   "source": [
    "\n",
    "eqs = cat([\n",
    "    divergence(E) ~ 4 * pi * rho(x, y, z),\n",
    "    divergence(B) ~ 0.0\n",
    "    ], \n",
    "    [rotor(E)[i] ~ [0.0; 0.0; 0.0][i] for i in 1:3],\n",
    "    [rotor(B)[i] ~ [0.0; 0.0; 0.0][i] for i in 1:3]\n",
    ", dims = 1)\n"
   ]
  },
  {
   "cell_type": "code",
   "execution_count": null,
   "metadata": {},
   "outputs": [],
   "source": [
    "\"\"\"\n",
    "eqs = [\n",
    "    divergence(E) ~ 4 * pi * rho(x, y, z),\n",
    "    divergence(B) ~ 0.0,\n",
    "    Dz(E[2](x, y, z)) - Dy(E[3](x, y, z)) ~ 0.0,\n",
    "    Dx(E[3](x, y, z)) - Dz(E[1](x, y, z)) ~ 0.0,\n",
    "    Dy(E[1](x, y, z)) - Dx(E[2](x, y, z)) ~ 0.0,\n",
    "    Dz(B[2](x, y, z)) - Dy(B[3](x, y, z)) ~ 0.0,\n",
    "    Dx(B[3](x, y, z)) - Dz(B[1](x, y, z)) ~ 0.0,\n",
    "    Dy(B[1](x, y, z)) - Dx(B[2](x, y, z)) ~ 0.0\n",
    "]\n",
    "\"\"\""
   ]
  },
  {
   "cell_type": "code",
   "execution_count": null,
   "metadata": {},
   "outputs": [],
   "source": [
    "lower = -2.1\n",
    "upper = 2.1\n",
    "bcs = cat(\n",
    "[E[i](lower, y, z) ~ 0.0 for i in 1:3], [E[i](upper, y, z) ~ 0.0 for i in 1:3],\n",
    "[B[i](lower, y, z) ~ 0.0 for i in 1:3], [B[i](upper, y, z) ~ 0.0 for i in 1:3],\n",
    "\n",
    "[E[i](x, lower, z) ~ 0.0 for i in 1:3], [E[i](x, upper, z) ~ 0.0 for i in 1:3],\n",
    "[B[i](x, lower, z) ~ 0.0 for i in 1:3], [B[i](x, upper, z) ~ 0.0 for i in 1:3],\n",
    "\n",
    "[E[i](x, y, lower) ~ 0.0 for i in 1:3], [E[i](x, y, upper) ~ 0.0 for i in 1:3],\n",
    "[B[i](x, y, lower) ~ 0.0 for i in 1:3], [B[i](x, y, upper) ~ 0.0 for i in 1:3],\n",
    "dims = 1)"
   ]
  },
  {
   "cell_type": "code",
   "execution_count": null,
   "metadata": {},
   "outputs": [],
   "source": [
    "\"\"\"\n",
    "lower = 10\n",
    "upper = -10\n",
    "bcs = [Ex(lower, y, z) ~ 0.0, Ex( 1, y, z) ~ 0.0, \n",
    "Ey(lower, y, z) ~ 0.0, Ey( 1, y, z) ~ 0.0, \n",
    "Ez(lower, y, z) ~ 0.0, Ez( 1, y, z) ~ 0.0, \n",
    "\n",
    "Ex(x, lower, z) ~ 0.0, Ex( x, 1, z) ~ 0.0, \n",
    "Ey(x, lower, z) ~ 0.0, Ey( x, 1, z) ~ 0.0, \n",
    "Ez(x, lower, z) ~ 0.0, Ez( x, 1, z) ~ 0.0, \n",
    "\n",
    "Ex(x, y, 0) ~ 0.0, Ex( x, y, 1) ~ 0.0, \n",
    "Ey(x, y, 0) ~ 0.0, Ey( x, y, 1) ~ 0.0, \n",
    "Ez(x, y, 0) ~ 0.0, Ez( x, y, 1) ~ 0.0, \n",
    "\n",
    "\n",
    "Bx(lower, y, z) ~ 0.0, Bx( 1, y, z) ~ 0.0, \n",
    "By(lower, y, z) ~ 0.0, By( 1, y, z) ~ 0.0, \n",
    "Bz(lower, y, z) ~ 0.0, Bz( 1, y, z) ~ 0.0, \n",
    "\n",
    "Bx(x, lower, z) ~ 0.0, Bx( x, 1, z) ~ 0.0, \n",
    "By(x, lower, z) ~ 0.0, By( x, 1, z) ~ 0.0, \n",
    "Bz(x, lower, z) ~ 0.0, Bz( x, 1, z) ~ 0.0, \n",
    "\n",
    "Bx(x, y, 0) ~ 0.0, Bx( x, y, 1) ~ 0.0, \n",
    "By(x, y, 0) ~ 0.0, By( x, y, 1) ~ 0.0, \n",
    "Bz(x, y, 0) ~ 0.0, Bz( x, y, 1) ~ 0.0]\n",
    "\"\"\""
   ]
  },
  {
   "cell_type": "code",
   "execution_count": null,
   "metadata": {},
   "outputs": [],
   "source": [
    "const gpud = gpu_device()\n",
    "const cpud = cpu_device()\n",
    "# Space and time domains\n",
    "domains = [x ∈ Interval(lower, upper),\n",
    "    y ∈ Interval(lower, upper),\n",
    "    z ∈ Interval(lower, upper)]\n",
    "\n",
    "# Neural network\n",
    "input_ = length(domains)\n",
    "n = 16\n",
    "chain = [Chain(Dense(input_, n, σ), Dense(n, n, σ), Dense(n, n, σ), Dense(n, 1)) for _ in 1:6]\n",
    "ps = [Lux.setup(Random.default_rng(), chain[i])[1] |> ComponentArray |> gpud .|> Float64\n",
    "for i in 1:6]\n",
    "strategy = QuasiRandomTraining(4096)\n",
    "discretization = PhysicsInformedNN(chain, strategy; init_params = ps)"
   ]
  },
  {
   "cell_type": "code",
   "execution_count": null,
   "metadata": {},
   "outputs": [],
   "source": [
    "@named pdesystem = PDESystem(eqs, bcs, domains, [x, y, z], [Ex(x, y, z), Ey(x, y, z),Ez(x, y, z), Bx(x, y, z), By(x, y, z), Bz(x, y, z)])"
   ]
  },
  {
   "cell_type": "code",
   "execution_count": null,
   "metadata": {},
   "outputs": [],
   "source": [
    "prob = discretize(pdesystem, discretization)\n",
    "sym_prob = symbolic_discretize(pdesystem, discretization)"
   ]
  },
  {
   "cell_type": "code",
   "execution_count": null,
   "metadata": {},
   "outputs": [],
   "source": [
    "pde_inner_loss_functions = sym_prob.loss_functions.pde_loss_functions\n",
    "bcs_inner_loss_functions = sym_prob.loss_functions.bc_loss_functions\n",
    "\n",
    "callback = function (p, l)\n",
    "    println(\"loss: \", l)\n",
    "    println(\"pde_losses: \", map(l_ -> l_(p.u), pde_inner_loss_functions))\n",
    "    println(\"bcs_losses: \", map(l_ -> l_(p.u), bcs_inner_loss_functions))\n",
    "    return false\n",
    "end\n"
   ]
  },
  {
   "cell_type": "code",
   "execution_count": null,
   "metadata": {},
   "outputs": [],
   "source": []
  },
  {
   "cell_type": "code",
   "execution_count": null,
   "metadata": {},
   "outputs": [],
   "source": [
    "\n",
    "res = solve(prob, OptimizationOptimisers.Adam(1e-2); maxiters = 800, callback, log_frequency = 50)\n",
    "prob = remake(prob, u0 = res.u)\n",
    "res = solve(prob, OptimizationOptimisers.Adam(1e-3); maxiters = 800, callback, log_frequency = 50)\n",
    "prob = remake(prob, u0 = res.u)\n",
    "res = solve(prob, OptimizationOptimisers.Adam(1e-4); maxiters = 800, callback, log_frequency = 50)"
   ]
  },
  {
   "cell_type": "code",
   "execution_count": null,
   "metadata": {},
   "outputs": [],
   "source": [
    "#prob = remake(prob, u0 = res.u)\n",
    "#res = solve(prob, LBFGS(linesearch = BackTracking()); maxiters = 1000, callback)"
   ]
  },
  {
   "cell_type": "code",
   "execution_count": null,
   "metadata": {},
   "outputs": [],
   "source": [
    "res.u"
   ]
  },
  {
   "cell_type": "code",
   "execution_count": null,
   "metadata": {},
   "outputs": [],
   "source": [
    "phi = discretization.phi |> cpud"
   ]
  },
  {
   "cell_type": "code",
   "execution_count": null,
   "metadata": {},
   "outputs": [],
   "source": [
    "using Plots\n",
    "\n",
    "phi = discretization.phi\n",
    "xs, ys, zs = [infimum(d.domain):0.01:supremum(d.domain) for d in domains]\n",
    "\n",
    "minimizers_ = [res.u.depvar[sym_prob.depvars[i] ]|> cpud for i in 1:6]\n",
    "z_selected = 0.4\n",
    "function analytic_sol_func(t, x, y, z)\n",
    "    r = sqrt((x) ^ 2 + (y) ^ 2 + (z) ^ 2)\n",
    "    [(x) / (r^3), (y) / (r^3), (z) / (r^3)]\n",
    "end\n",
    "clip = 10\n",
    "u_real = [[clamp(analytic_sol_func(0, xs, ys, z_selected)[i], -clip, clip) for xs in xs for ys in ys] for i in 1:3]"
   ]
  },
  {
   "cell_type": "code",
   "execution_count": null,
   "metadata": {},
   "outputs": [],
   "source": [
    "u_predict = [[(phi[i]([x, y, z_selected], minimizers_[i]))[1] for x in xs for y in ys] for i in 1:6]"
   ]
  },
  {
   "cell_type": "code",
   "execution_count": null,
   "metadata": {},
   "outputs": [],
   "source": [
    "diff_u = [abs.(u_real[i] .- u_predict[i]) for i in 1:3]"
   ]
  },
  {
   "cell_type": "code",
   "execution_count": null,
   "metadata": {},
   "outputs": [],
   "source": [
    "\n",
    "ps = []\n",
    "for i in 1:3\n",
    "    p1 = plot(xs, ys, u_real[i], linetype = :contourf, title = \"u$i, analytic\")\n",
    "    p2 = plot(xs, ys, u_predict[i], linetype = :contourf, title = \"predict\")\n",
    "    p3 = plot(xs, ys, diff_u[i], linetype = :contourf, title = \"error\")\n",
    "    push!(ps, plot(p1, p2, p3))\n",
    "end"
   ]
  },
  {
   "cell_type": "markdown",
   "metadata": {},
   "source": [
    "# Решение для $\\sigma = \\cdot 10^{-1}$"
   ]
  },
  {
   "cell_type": "code",
   "execution_count": null,
   "metadata": {},
   "outputs": [],
   "source": [
    "savefig(ps[1], \"figures/plot_Ex_$sigma.png\")\n",
    "ps[1]"
   ]
  },
  {
   "cell_type": "code",
   "execution_count": null,
   "metadata": {},
   "outputs": [],
   "source": [
    "savefig(ps[2], \"figures/plot_Ey_$sigma.png\")\n",
    "ps[2]"
   ]
  },
  {
   "cell_type": "code",
   "execution_count": null,
   "metadata": {},
   "outputs": [],
   "source": [
    "savefig(ps[3], \"figures/plot_Ez_$sigma.png\")\n",
    "ps[3]"
   ]
  },
  {
   "cell_type": "code",
   "execution_count": null,
   "metadata": {},
   "outputs": [],
   "source": [
    "plt = plot(xs, ys, u_predict[4], linetype = :contourf, title = \"predict\")\n",
    "savefig(plt, \"figures/plot_Bx_$sigma.png\")\n",
    "plt"
   ]
  },
  {
   "cell_type": "code",
   "execution_count": null,
   "metadata": {},
   "outputs": [],
   "source": []
  },
  {
   "cell_type": "markdown",
   "metadata": {},
   "source": [
    "# Решение для $\\sigma = 2 \\cdot 10^{-2}$"
   ]
  },
  {
   "cell_type": "markdown",
   "metadata": {},
   "source": [
    "## $E_x$"
   ]
  },
  {
   "cell_type": "code",
   "execution_count": null,
   "metadata": {},
   "outputs": [],
   "source": [
    "savefig(ps[1], \"figures/plot_Ex_$sigma.png\")\n",
    "ps[1]"
   ]
  },
  {
   "cell_type": "markdown",
   "metadata": {},
   "source": [
    "## $E_y$"
   ]
  },
  {
   "cell_type": "code",
   "execution_count": null,
   "metadata": {},
   "outputs": [],
   "source": [
    "savefig(ps[2], \"figures/plot_Ey_$sigma.png\")\n",
    "ps[2]"
   ]
  },
  {
   "cell_type": "markdown",
   "metadata": {},
   "source": [
    "## $E_z$"
   ]
  },
  {
   "cell_type": "code",
   "execution_count": null,
   "metadata": {},
   "outputs": [],
   "source": [
    "savefig(ps[3], \"figures/plot_Ez_$sigma.png\")\n",
    "ps[3]"
   ]
  },
  {
   "cell_type": "markdown",
   "metadata": {},
   "source": [
    "# $B_x$"
   ]
  },
  {
   "cell_type": "code",
   "execution_count": null,
   "metadata": {},
   "outputs": [],
   "source": [
    "plt = plot(xs, ys, u_predict[4], linetype = :contourf, title = \"predict\")\n",
    "savefig(plt, \"figures/plot_Bx_$sigma.png\")\n",
    "plt"
   ]
  },
  {
   "cell_type": "markdown",
   "metadata": {},
   "source": [
    "# Решение для $\\sigma = 5 \\cdot 10^{-3}$"
   ]
  },
  {
   "cell_type": "code",
   "execution_count": null,
   "metadata": {},
   "outputs": [],
   "source": [
    "savefig(ps[1], \"figures/plot_Ex_$sigma.png\")\n",
    "ps[1]"
   ]
  },
  {
   "cell_type": "code",
   "execution_count": null,
   "metadata": {},
   "outputs": [],
   "source": [
    "savefig(ps[2], \"figures/plot_Ey_$sigma.png\")\n",
    "ps[2]"
   ]
  },
  {
   "cell_type": "code",
   "execution_count": null,
   "metadata": {},
   "outputs": [],
   "source": [
    "savefig(ps[3], \"figures/plot_Ez_$sigma.png\")\n",
    "ps[3]"
   ]
  },
  {
   "cell_type": "code",
   "execution_count": null,
   "metadata": {},
   "outputs": [],
   "source": [
    "plt = plot(xs, ys, u_predict[4], linetype = :contourf, title = \"predict\")\n",
    "savefig(plt, \"figures/plot_Bx_$sigma.png\")\n",
    "plt"
   ]
  },
  {
   "cell_type": "markdown",
   "metadata": {},
   "source": [
    "# Решение для $\\sigma = \\cdot 10^{-4}$"
   ]
  },
  {
   "cell_type": "code",
   "execution_count": null,
   "metadata": {},
   "outputs": [],
   "source": [
    "savefig(ps[1], \"figures/plot_Ex_$sigma.png\")\n",
    "ps[1]"
   ]
  },
  {
   "cell_type": "code",
   "execution_count": null,
   "metadata": {},
   "outputs": [],
   "source": [
    "savefig(ps[2], \"figures/plot_Ey_$sigma.png\")\n",
    "ps[2]"
   ]
  },
  {
   "cell_type": "code",
   "execution_count": null,
   "metadata": {},
   "outputs": [],
   "source": [
    "savefig(ps[3], \"figures/plot_Ez_$sigma.png\")\n",
    "ps[3]"
   ]
  },
  {
   "cell_type": "code",
   "execution_count": null,
   "metadata": {},
   "outputs": [],
   "source": [
    "plt = plot(xs, ys, u_predict[4], linetype = :contourf, title = \"predict\")\n",
    "savefig(plt, \"figures/plot_Bx_$sigma.png\")\n",
    "plt"
   ]
  },
  {
   "cell_type": "code",
   "execution_count": null,
   "metadata": {},
   "outputs": [],
   "source": [
    "using JLD2"
   ]
  },
  {
   "cell_type": "code",
   "execution_count": null,
   "metadata": {},
   "outputs": [],
   "source": [
    "res_cpu = (res.u |> cpud)"
   ]
  },
  {
   "cell_type": "code",
   "execution_count": null,
   "metadata": {},
   "outputs": [],
   "source": [
    "@save \"res_model_trained.jld2\" res_cpu"
   ]
  },
  {
   "cell_type": "code",
   "execution_count": null,
   "metadata": {},
   "outputs": [],
   "source": [
    "@load \"res_model_trained.jld2\" res_cpu"
   ]
  },
  {
   "cell_type": "code",
   "execution_count": null,
   "metadata": {},
   "outputs": [],
   "source": [
    "res_cpu"
   ]
  },
  {
   "cell_type": "code",
   "execution_count": null,
   "metadata": {},
   "outputs": [],
   "source": [
    "using Plots\n",
    "\n",
    "phi = discretization.phi\n",
    "xs, ys, zs = [infimum(d.domain):0.01:supremum(d.domain) for d in domains]\n",
    "\n",
    "minimizers_ = [res_cpu.depvar[sym_prob.depvars[i] ] for i in 1:6]\n",
    "z_selected = 0.5\n",
    "function analytic_sol_func(t, x, y, z)\n",
    "    r = sqrt((x) ^ 2 + (y) ^ 2 + (z) ^ 2)\n",
    "    [(x) / (r^3), (y) / (r^3), (z) / (r^3)]\n",
    "end\n",
    "\n",
    "u_real = [[clamp(analytic_sol_func(0, xs, ys, z_selected)[i], -2, 2) for xs in xs for ys in ys] for i in 1:3]\n",
    "u_predict = [[(phi[i]([x, y, z_selected], minimizers_[i]))[1] for x in xs for y in ys] for i in 1:6]\n",
    "diff_u = [abs.(u_real[i] .- u_predict[i]) for i in 1:3]"
   ]
  },
  {
   "cell_type": "code",
   "execution_count": null,
   "metadata": {},
   "outputs": [],
   "source": [
    "\n",
    "ps = []\n",
    "for i in 1:3\n",
    "    p1 = plot(xs, ys, u_real[i], linetype = :contourf, title = \"u$i, analytic\")\n",
    "    p2 = plot(xs, ys, u_predict[i], linetype = :contourf, title = \"predict\")\n",
    "    p3 = plot(xs, ys, diff_u[i], linetype = :contourf, title = \"error\")\n",
    "    push!(ps, plot(p1, p2, p3))\n",
    "end"
   ]
  },
  {
   "cell_type": "code",
   "execution_count": null,
   "metadata": {},
   "outputs": [],
   "source": [
    "ps[3]"
   ]
  },
  {
   "cell_type": "code",
   "execution_count": null,
   "metadata": {},
   "outputs": [],
   "source": [
    "using NeuralPDE, Lux, ModelingToolkit, Optimization, OptimizationOptimJL\n",
    "using ModelingToolkit: Interval\n",
    "using Plots\n",
    "\n"
   ]
  },
  {
   "cell_type": "markdown",
   "metadata": {},
   "source": [
    "## Решение волнового уравнения на плоскости"
   ]
  },
  {
   "cell_type": "code",
   "execution_count": null,
   "metadata": {},
   "outputs": [],
   "source": [
    "@parameters x y\n",
    "@variables u(..)\n",
    "Dxx = Differential(x)^2\n",
    "Dyy = Differential(y)^2\n",
    "\n",
    "# 2D PDE\n",
    "eq = Dxx(u(x, y)) + Dyy(u(x, y)) ~ -sin(pi * x) * sin(pi * y)\n",
    "\n",
    "# Boundary conditions\n",
    "bcs = [u(0, y) ~ 0.0, u(1, y) ~ 0.0,\n",
    "    u(x, 0) ~ 0.0, u(x, 1) ~ 0.0]\n",
    "# Space and time domains\n",
    "domains = [x ∈ Interval(0.0, 1.0),\n",
    "    y ∈ Interval(0.0, 1.0)]"
   ]
  },
  {
   "cell_type": "code",
   "execution_count": null,
   "metadata": {},
   "outputs": [],
   "source": [
    "# Neural network\n",
    "dim = 2 # number of dimensions\n",
    "chain = Chain(Dense(dim, 16, σ), Dense(16, 16, σ), Dense(16, 1))"
   ]
  },
  {
   "cell_type": "code",
   "execution_count": null,
   "metadata": {},
   "outputs": [],
   "source": [
    "discretization = PhysicsInformedNN(\n",
    "    chain, QuadratureTraining(; batch = 200, abstol = 1e-6, reltol = 1e-6))"
   ]
  },
  {
   "cell_type": "code",
   "execution_count": null,
   "metadata": {},
   "outputs": [],
   "source": [
    "@named pde_system = PDESystem(eq, bcs, domains, [x, y], [u(x, y)])\n",
    "prob = discretize(pde_system, discretization)"
   ]
  },
  {
   "cell_type": "code",
   "execution_count": null,
   "metadata": {},
   "outputs": [],
   "source": [
    "#Optimizer\n",
    "opt = OptimizationOptimJL.LBFGS(linesearch = BackTracking())\n",
    "\n",
    "callback = function (p, l)\n",
    "    println(\"Current loss is: $l\")\n",
    "    return false\n",
    "end\n",
    "\n",
    "# We can pass the callback function in the solve. Not doing here as the output would be very long.\n",
    "res = Optimization.solve(prob, opt, maxiters = 1000, callback = callback)\n",
    "phi = discretization.phi"
   ]
  },
  {
   "cell_type": "code",
   "execution_count": null,
   "metadata": {},
   "outputs": [],
   "source": [
    "dx = 0.05\n",
    "xs, ys = [infimum(d.domain):(dx / 10):supremum(d.domain) for d in domains]\n",
    "analytic_sol_func(x, y) = (sin(pi * x) * sin(pi * y)) / (2pi^2)\n",
    "\n",
    "u_predict = reshape([first(phi([x, y], res.u)) for x in xs for y in ys],\n",
    "    (length(xs), length(ys)))\n",
    "u_real = reshape([analytic_sol_func(x, y) for x in xs for y in ys],\n",
    "    (length(xs), length(ys)))\n",
    "diff_u = abs.(u_predict .- u_real)\n",
    "\n",
    "p1 = plot(xs, ys, u_real, linetype = :contourf, title = \"analytic\");\n",
    "p2 = plot(xs, ys, u_predict, linetype = :contourf, title = \"predict\");\n",
    "p3 = plot(xs, ys, diff_u, linetype = :contourf, title = \"error\");\n",
    "plot(p1, p2, p3)"
   ]
  },
  {
   "cell_type": "markdown",
   "metadata": {},
   "source": [
    "## Решение уравнения для заряда на плоскости"
   ]
  },
  {
   "cell_type": "code",
   "execution_count": null,
   "metadata": {},
   "outputs": [],
   "source": [
    "@parameters t, x, y, z\n",
    "@variables Ex(..), Ey(..), Ez(..), Bx(..), By(..), Bz(..)\n",
    "E = [Ex, Ey, Ez]\n",
    "B = [Bx, By, Bz]\n",
    "\n",
    "Dx = Differential(x)\n",
    "Dy = Differential(y)\n",
    "Dz = Differential(z)\n",
    "\n",
    "sigma = 1e-4\n",
    "charge = Distributions.MvNormal([0.; 0.; 0.], [1. 0.0 0.0; 0.0 1. 0.0; 0.0 0.00 1.] * sigma)\n",
    "rho = (x, y, z) -> Distributions.pdf(charge, [x; y; z])\n",
    "\n",
    "function divergence(f)\n",
    "    return Dx(f[1](x, y, z)) + Dy(f[2](x, y, z)) + Dz(f[3](x, y, z))\n",
    "end\n",
    "function rotor(f)\n",
    "    ex = Dz(f[2](x, y, z)) - Dy(f[3](x, y, z))\n",
    "    ey = Dx(f[3](x, y, z)) - Dz(f[1](x, y, z))\n",
    "    ez = Dy(f[1](x, y, z)) - Dx(f[2](x, y, z))\n",
    "    return [ex; ey; ez]\n",
    "end\n"
   ]
  },
  {
   "cell_type": "markdown",
   "metadata": {},
   "source": [
    "### Plot of $\\rho(\\mathbf{r})$ on $Oxy$"
   ]
  },
  {
   "cell_type": "code",
   "execution_count": null,
   "metadata": {},
   "outputs": [],
   "source": [
    "plot(xs, ys, [rho(x, y, 0) for x in xs for y in ys], linetype = :contourf, title = \"predict\")"
   ]
  },
  {
   "cell_type": "code",
   "execution_count": null,
   "metadata": {},
   "outputs": [],
   "source": [
    "savefig(\"plot_rho_$sigma.png\")"
   ]
  },
  {
   "cell_type": "code",
   "execution_count": null,
   "metadata": {},
   "outputs": [],
   "source": [
    "rotor(E)"
   ]
  },
  {
   "cell_type": "code",
   "execution_count": null,
   "metadata": {},
   "outputs": [],
   "source": [
    "function retrv(f, x, y, z)\n",
    "    return [f[1](x,y,z); f[2](x,y,z); f[3](x,y,z)]\n",
    "end"
   ]
  },
  {
   "cell_type": "code",
   "execution_count": null,
   "metadata": {},
   "outputs": [],
   "source": [
    "[(rotor(E)[i] ~ [0.0; 0.0; 0.0][i]) for i in 1:3]"
   ]
  },
  {
   "cell_type": "code",
   "execution_count": null,
   "metadata": {},
   "outputs": [],
   "source": [
    "\n",
    "eqs = cat([\n",
    "    divergence(E) ~ 4 * pi * rho(x, y, z),\n",
    "    divergence(B) ~ 0.0\n",
    "    ], \n",
    "    [rotor(E)[i] ~ [0.0; 0.0; 0.0][i] for i in 1:3],\n",
    "    [rotor(B)[i] ~ [0.0; 0.0; 0.0][i] for i in 1:3]\n",
    ", dims = 1)\n"
   ]
  },
  {
   "cell_type": "code",
   "execution_count": null,
   "metadata": {},
   "outputs": [],
   "source": [
    "\"\"\"\n",
    "eqs = [\n",
    "    divergence(E) ~ 4 * pi * rho(x, y, z),\n",
    "    divergence(B) ~ 0.0,\n",
    "    Dz(E[2](x, y, z)) - Dy(E[3](x, y, z)) ~ 0.0,\n",
    "    Dx(E[3](x, y, z)) - Dz(E[1](x, y, z)) ~ 0.0,\n",
    "    Dy(E[1](x, y, z)) - Dx(E[2](x, y, z)) ~ 0.0,\n",
    "    Dz(B[2](x, y, z)) - Dy(B[3](x, y, z)) ~ 0.0,\n",
    "    Dx(B[3](x, y, z)) - Dz(B[1](x, y, z)) ~ 0.0,\n",
    "    Dy(B[1](x, y, z)) - Dx(B[2](x, y, z)) ~ 0.0\n",
    "]\n",
    "\"\"\""
   ]
  },
  {
   "cell_type": "code",
   "execution_count": null,
   "metadata": {},
   "outputs": [],
   "source": [
    "lower = -2.1\n",
    "upper = 2.1\n",
    "bcs = cat(\n",
    "[E[i](lower, y, z) ~ 0.0 for i in 1:3], [E[i](upper, y, z) ~ 0.0 for i in 1:3],\n",
    "[B[i](lower, y, z) ~ 0.0 for i in 1:3], [B[i](upper, y, z) ~ 0.0 for i in 1:3],\n",
    "\n",
    "[E[i](x, lower, z) ~ 0.0 for i in 1:3], [E[i](x, upper, z) ~ 0.0 for i in 1:3],\n",
    "[B[i](x, lower, z) ~ 0.0 for i in 1:3], [B[i](x, upper, z) ~ 0.0 for i in 1:3],\n",
    "\n",
    "[E[i](x, y, lower) ~ 0.0 for i in 1:3], [E[i](x, y, upper) ~ 0.0 for i in 1:3],\n",
    "[B[i](x, y, lower) ~ 0.0 for i in 1:3], [B[i](x, y, upper) ~ 0.0 for i in 1:3],\n",
    "dims = 1)"
   ]
  },
  {
   "cell_type": "code",
   "execution_count": null,
   "metadata": {},
   "outputs": [],
   "source": [
    "\"\"\"\n",
    "lower = 10\n",
    "upper = -10\n",
    "bcs = [Ex(lower, y, z) ~ 0.0, Ex( 1, y, z) ~ 0.0, \n",
    "Ey(lower, y, z) ~ 0.0, Ey( 1, y, z) ~ 0.0, \n",
    "Ez(lower, y, z) ~ 0.0, Ez( 1, y, z) ~ 0.0, \n",
    "\n",
    "Ex(x, lower, z) ~ 0.0, Ex( x, 1, z) ~ 0.0, \n",
    "Ey(x, lower, z) ~ 0.0, Ey( x, 1, z) ~ 0.0, \n",
    "Ez(x, lower, z) ~ 0.0, Ez( x, 1, z) ~ 0.0, \n",
    "\n",
    "Ex(x, y, 0) ~ 0.0, Ex( x, y, 1) ~ 0.0, \n",
    "Ey(x, y, 0) ~ 0.0, Ey( x, y, 1) ~ 0.0, \n",
    "Ez(x, y, 0) ~ 0.0, Ez( x, y, 1) ~ 0.0, \n",
    "\n",
    "\n",
    "Bx(lower, y, z) ~ 0.0, Bx( 1, y, z) ~ 0.0, \n",
    "By(lower, y, z) ~ 0.0, By( 1, y, z) ~ 0.0, \n",
    "Bz(lower, y, z) ~ 0.0, Bz( 1, y, z) ~ 0.0, \n",
    "\n",
    "Bx(x, lower, z) ~ 0.0, Bx( x, 1, z) ~ 0.0, \n",
    "By(x, lower, z) ~ 0.0, By( x, 1, z) ~ 0.0, \n",
    "Bz(x, lower, z) ~ 0.0, Bz( x, 1, z) ~ 0.0, \n",
    "\n",
    "Bx(x, y, 0) ~ 0.0, Bx( x, y, 1) ~ 0.0, \n",
    "By(x, y, 0) ~ 0.0, By( x, y, 1) ~ 0.0, \n",
    "Bz(x, y, 0) ~ 0.0, Bz( x, y, 1) ~ 0.0]\n",
    "\"\"\""
   ]
  },
  {
   "cell_type": "code",
   "execution_count": null,
   "metadata": {},
   "outputs": [],
   "source": [
    "const gpud = gpu_device()\n",
    "const cpud = cpu_device()\n",
    "# Space and time domains\n",
    "domains = [x ∈ Interval(lower, upper),\n",
    "    y ∈ Interval(lower, upper),\n",
    "    z ∈ Interval(lower, upper)]\n",
    "\n",
    "# Neural network\n",
    "input_ = length(domains)\n",
    "n = 16\n",
    "chain = [Chain(Dense(input_, n, σ), Dense(n, n, σ), Dense(n, n, σ), Dense(n, 1)) for _ in 1:6]\n",
    "ps = [Lux.setup(Random.default_rng(), chain[i])[1] |> ComponentArray |> gpud .|> Float64\n",
    "for i in 1:6]\n",
    "strategy = QuasiRandomTraining(4096)\n",
    "discretization = PhysicsInformedNN(chain, strategy; init_params = ps)"
   ]
  },
  {
   "cell_type": "code",
   "execution_count": null,
   "metadata": {},
   "outputs": [],
   "source": [
    "@named pdesystem = PDESystem(eqs, bcs, domains, [x, y, z], [Ex(x, y, z), Ey(x, y, z),Ez(x, y, z), Bx(x, y, z), By(x, y, z), Bz(x, y, z)])"
   ]
  },
  {
   "cell_type": "code",
   "execution_count": null,
   "metadata": {},
   "outputs": [],
   "source": [
    "prob = discretize(pdesystem, discretization)\n",
    "sym_prob = symbolic_discretize(pdesystem, discretization)"
   ]
  },
  {
   "cell_type": "code",
   "execution_count": null,
   "metadata": {},
   "outputs": [],
   "source": [
    "pde_inner_loss_functions = sym_prob.loss_functions.pde_loss_functions\n",
    "bcs_inner_loss_functions = sym_prob.loss_functions.bc_loss_functions\n",
    "\n",
    "callback = function (p, l)\n",
    "    println(\"loss: \", l)\n",
    "    println(\"pde_losses: \", map(l_ -> l_(p.u), pde_inner_loss_functions))\n",
    "    println(\"bcs_losses: \", map(l_ -> l_(p.u), bcs_inner_loss_functions))\n",
    "    return false\n",
    "end\n"
   ]
  },
  {
   "cell_type": "code",
   "execution_count": null,
   "metadata": {},
   "outputs": [],
   "source": []
  },
  {
   "cell_type": "code",
   "execution_count": null,
   "metadata": {},
   "outputs": [],
   "source": [
    "\n",
    "res = solve(prob, OptimizationOptimisers.Adam(1e-2); maxiters = 800, callback, log_frequency = 50)\n",
    "prob = remake(prob, u0 = res.u)\n",
    "res = solve(prob, OptimizationOptimisers.Adam(1e-3); maxiters = 800, callback, log_frequency = 50)\n",
    "prob = remake(prob, u0 = res.u)\n",
    "res = solve(prob, OptimizationOptimisers.Adam(1e-4); maxiters = 800, callback, log_frequency = 50)"
   ]
  },
  {
   "cell_type": "code",
   "execution_count": null,
   "metadata": {},
   "outputs": [],
   "source": [
    "#prob = remake(prob, u0 = res.u)\n",
    "#res = solve(prob, LBFGS(linesearch = BackTracking()); maxiters = 1000, callback)"
   ]
  },
  {
   "cell_type": "code",
   "execution_count": null,
   "metadata": {},
   "outputs": [],
   "source": [
    "res.u"
   ]
  },
  {
   "cell_type": "code",
   "execution_count": null,
   "metadata": {},
   "outputs": [],
   "source": [
    "phi = discretization.phi |> cpud"
   ]
  },
  {
   "cell_type": "code",
   "execution_count": null,
   "metadata": {},
   "outputs": [],
   "source": [
    "using Plots\n",
    "\n",
    "phi = discretization.phi\n",
    "xs, ys, zs = [infimum(d.domain):0.01:supremum(d.domain) for d in domains]\n",
    "\n",
    "minimizers_ = [res.u.depvar[sym_prob.depvars[i] ]|> cpud for i in 1:6]\n",
    "z_selected = 0.4\n",
    "function analytic_sol_func(t, x, y, z)\n",
    "    r = sqrt((x) ^ 2 + (y) ^ 2 + (z) ^ 2)\n",
    "    [(x) / (r^3), (y) / (r^3), (z) / (r^3)]\n",
    "end\n",
    "clip = 10\n",
    "u_real = [[clamp(analytic_sol_func(0, xs, ys, z_selected)[i], -clip, clip) for xs in xs for ys in ys] for i in 1:3]"
   ]
  },
  {
   "cell_type": "code",
   "execution_count": null,
   "metadata": {},
   "outputs": [],
   "source": [
    "u_predict = [[(phi[i]([x, y, z_selected], minimizers_[i]))[1] for x in xs for y in ys] for i in 1:6]"
   ]
  },
  {
   "cell_type": "code",
   "execution_count": null,
   "metadata": {},
   "outputs": [],
   "source": [
    "diff_u = [abs.(u_real[i] .- u_predict[i]) for i in 1:3]"
   ]
  },
  {
   "cell_type": "code",
   "execution_count": null,
   "metadata": {},
   "outputs": [],
   "source": [
    "\n",
    "ps = []\n",
    "for i in 1:3\n",
    "    p1 = plot(xs, ys, u_real[i], linetype = :contourf, title = \"u$i, analytic\")\n",
    "    p2 = plot(xs, ys, u_predict[i], linetype = :contourf, title = \"predict\")\n",
    "    p3 = plot(xs, ys, diff_u[i], linetype = :contourf, title = \"error\")\n",
    "    push!(ps, plot(p1, p2, p3))\n",
    "end"
   ]
  },
  {
   "cell_type": "markdown",
   "metadata": {},
   "source": [
    "# Решение для $\\sigma = \\cdot 10^{-1}$"
   ]
  },
  {
   "cell_type": "code",
   "execution_count": null,
   "metadata": {},
   "outputs": [],
   "source": [
    "savefig(ps[1], \"figures/plot_Ex_$sigma.png\")\n",
    "ps[1]"
   ]
  },
  {
   "cell_type": "code",
   "execution_count": null,
   "metadata": {},
   "outputs": [],
   "source": [
    "savefig(ps[2], \"figures/plot_Ey_$sigma.png\")\n",
    "ps[2]"
   ]
  },
  {
   "cell_type": "code",
   "execution_count": null,
   "metadata": {},
   "outputs": [],
   "source": [
    "savefig(ps[3], \"figures/plot_Ez_$sigma.png\")\n",
    "ps[3]"
   ]
  },
  {
   "cell_type": "code",
   "execution_count": null,
   "metadata": {},
   "outputs": [],
   "source": [
    "plt = plot(xs, ys, u_predict[4], linetype = :contourf, title = \"predict\")\n",
    "savefig(plt, \"figures/plot_Bx_$sigma.png\")\n",
    "plt"
   ]
  },
  {
   "cell_type": "code",
   "execution_count": null,
   "metadata": {},
   "outputs": [],
   "source": []
  },
  {
   "cell_type": "markdown",
   "metadata": {},
   "source": [
    "# Решение для $\\sigma = 2 \\cdot 10^{-2}$"
   ]
  },
  {
   "cell_type": "markdown",
   "metadata": {},
   "source": [
    "## $E_x$"
   ]
  },
  {
   "cell_type": "code",
   "execution_count": null,
   "metadata": {},
   "outputs": [],
   "source": [
    "savefig(ps[1], \"figures/plot_Ex_$sigma.png\")\n",
    "ps[1]"
   ]
  },
  {
   "cell_type": "markdown",
   "metadata": {},
   "source": [
    "## $E_y$"
   ]
  },
  {
   "cell_type": "code",
   "execution_count": null,
   "metadata": {},
   "outputs": [],
   "source": [
    "savefig(ps[2], \"figures/plot_Ey_$sigma.png\")\n",
    "ps[2]"
   ]
  },
  {
   "cell_type": "markdown",
   "metadata": {},
   "source": [
    "## $E_z$"
   ]
  },
  {
   "cell_type": "code",
   "execution_count": null,
   "metadata": {},
   "outputs": [],
   "source": [
    "savefig(ps[3], \"figures/plot_Ez_$sigma.png\")\n",
    "ps[3]"
   ]
  },
  {
   "cell_type": "markdown",
   "metadata": {},
   "source": [
    "# $B_x$"
   ]
  },
  {
   "cell_type": "code",
   "execution_count": null,
   "metadata": {},
   "outputs": [],
   "source": [
    "plt = plot(xs, ys, u_predict[4], linetype = :contourf, title = \"predict\")\n",
    "savefig(plt, \"figures/plot_Bx_$sigma.png\")\n",
    "plt"
   ]
  },
  {
   "cell_type": "markdown",
   "metadata": {},
   "source": [
    "# Решение для $\\sigma = 5 \\cdot 10^{-3}$"
   ]
  },
  {
   "cell_type": "code",
   "execution_count": null,
   "metadata": {},
   "outputs": [],
   "source": [
    "savefig(ps[1], \"figures/plot_Ex_$sigma.png\")\n",
    "ps[1]"
   ]
  },
  {
   "cell_type": "code",
   "execution_count": null,
   "metadata": {},
   "outputs": [],
   "source": [
    "savefig(ps[2], \"figures/plot_Ey_$sigma.png\")\n",
    "ps[2]"
   ]
  },
  {
   "cell_type": "code",
   "execution_count": null,
   "metadata": {},
   "outputs": [],
   "source": [
    "savefig(ps[3], \"figures/plot_Ez_$sigma.png\")\n",
    "ps[3]"
   ]
  },
  {
   "cell_type": "code",
   "execution_count": null,
   "metadata": {},
   "outputs": [],
   "source": [
    "plt = plot(xs, ys, u_predict[4], linetype = :contourf, title = \"predict\")\n",
    "savefig(plt, \"figures/plot_Bx_$sigma.png\")\n",
    "plt"
   ]
  },
  {
   "cell_type": "markdown",
   "metadata": {},
   "source": [
    "# Решение для $\\sigma = \\cdot 10^{-4}$"
   ]
  },
  {
   "cell_type": "code",
   "execution_count": null,
   "metadata": {},
   "outputs": [],
   "source": [
    "savefig(ps[1], \"figures/plot_Ex_$sigma.png\")\n",
    "ps[1]"
   ]
  },
  {
   "cell_type": "code",
   "execution_count": null,
   "metadata": {},
   "outputs": [],
   "source": [
    "savefig(ps[2], \"figures/plot_Ey_$sigma.png\")\n",
    "ps[2]"
   ]
  },
  {
   "cell_type": "code",
   "execution_count": null,
   "metadata": {},
   "outputs": [],
   "source": [
    "savefig(ps[3], \"figures/plot_Ez_$sigma.png\")\n",
    "ps[3]"
   ]
  },
  {
   "cell_type": "code",
   "execution_count": null,
   "metadata": {},
   "outputs": [],
   "source": [
    "plt = plot(xs, ys, u_predict[4], linetype = :contourf, title = \"predict\")\n",
    "savefig(plt, \"figures/plot_Bx_$sigma.png\")\n",
    "plt"
   ]
  },
  {
   "cell_type": "code",
   "execution_count": null,
   "metadata": {},
   "outputs": [],
   "source": [
    "using JLD2"
   ]
  },
  {
   "cell_type": "code",
   "execution_count": null,
   "metadata": {},
   "outputs": [],
   "source": [
    "res_cpu = (res.u |> cpud)"
   ]
  },
  {
   "cell_type": "code",
   "execution_count": null,
   "metadata": {},
   "outputs": [],
   "source": [
    "@save \"res_model_trained.jld2\" res_cpu"
   ]
  },
  {
   "cell_type": "code",
   "execution_count": null,
   "metadata": {},
   "outputs": [],
   "source": [
    "@load \"res_model_trained.jld2\" res_cpu"
   ]
  },
  {
   "cell_type": "code",
   "execution_count": null,
   "metadata": {},
   "outputs": [],
   "source": [
    "res_cpu"
   ]
  },
  {
   "cell_type": "code",
   "execution_count": null,
   "metadata": {},
   "outputs": [],
   "source": [
    "using Plots\n",
    "\n",
    "phi = discretization.phi\n",
    "xs, ys, zs = [infimum(d.domain):0.01:supremum(d.domain) for d in domains]\n",
    "\n",
    "minimizers_ = [res_cpu.depvar[sym_prob.depvars[i] ] for i in 1:6]\n",
    "z_selected = 0.5\n",
    "function analytic_sol_func(t, x, y, z)\n",
    "    r = sqrt((x) ^ 2 + (y) ^ 2 + (z) ^ 2)\n",
    "    [(x) / (r^3), (y) / (r^3), (z) / (r^3)]\n",
    "end\n",
    "\n",
    "u_real = [[clamp(analytic_sol_func(0, xs, ys, z_selected)[i], -2, 2) for xs in xs for ys in ys] for i in 1:3]\n",
    "u_predict = [[(phi[i]([x, y, z_selected], minimizers_[i]))[1] for x in xs for y in ys] for i in 1:6]\n",
    "diff_u = [abs.(u_real[i] .- u_predict[i]) for i in 1:3]"
   ]
  },
  {
   "cell_type": "code",
   "execution_count": null,
   "metadata": {},
   "outputs": [],
   "source": [
    "\n",
    "ps = []\n",
    "for i in 1:3\n",
    "    p1 = plot(xs, ys, u_real[i], linetype = :contourf, title = \"u$i, analytic\")\n",
    "    p2 = plot(xs, ys, u_predict[i], linetype = :contourf, title = \"predict\")\n",
    "    p3 = plot(xs, ys, diff_u[i], linetype = :contourf, title = \"error\")\n",
    "    push!(ps, plot(p1, p2, p3))\n",
    "end"
   ]
  },
  {
   "cell_type": "code",
   "execution_count": null,
   "metadata": {},
   "outputs": [],
   "source": [
    "ps[3]"
   ]
  },
  {
   "cell_type": "code",
   "execution_count": null,
   "metadata": {},
   "outputs": [],
   "source": [
    "# Добавление новой нейросети для моделирования распределения заряда и тока\n",
    "charge_current_chain = Chain(Dense(3, 16, σ), Dense(16, 16, σ), Dense(16, 4))\n",
    "charge_current_params = Lux.setup(Random.default_rng(), charge_current_chain)[1] |> ComponentArray |> gpu_device() |> Float64"
   ]
  },
  {
   "cell_type": "code",
   "execution_count": null,
   "metadata": {},
   "outputs": [],
   "source": [
    "# Обновление Loss с учетом новой сети и регуляризации\n",
    "function custom_loss(p, l)\n",
    "    # Существующий Loss\n",
    "    pde_loss = sum(map(l_ -> l_(p.u), pde_inner_loss_functions))\n",
    "    bc_loss = sum(map(l_ -> l_(p.u), bcs_inner_loss_functions))\n",
    "    \n",
    "    # Регуляризация для новой сети\n",
    "    reg_loss = sum(abs2, charge_current_params)\n",
    "    \n",
    "    return pde_loss + bc_loss + 1e-4 * reg_loss\n",
    "end"
   ]
  },
  {
   "cell_type": "code",
   "execution_count": null,
   "metadata": {},
   "outputs": [],
   "source": [
    "# Обновление пайплайна для обучения новой сети\n",
    "callback = function (p, l)\n",
    "    println(\"loss: \", l)\n",
    "    println(\"pde_losses: \", map(l_ -> l_(p.u), pde_inner_loss_functions))\n",
    "    println(\"bcs_losses: \", map(l_ -> l_(p.u), bcs_inner_loss_functions))\n",
    "    return false\n",
    "end\n",
    "\n",
    "res = solve(prob, OptimizationOptimisers.Adam(1e-2); maxiters = 800, callback, log_frequency = 50, loss = custom_loss)"
   ]
  },
  {
   "cell_type": "code",
   "execution_count": null,
   "metadata": {},
   "outputs": [],
   "source": []
  }
 ],
 "metadata": {
  "kernelspec": {
   "display_name": "Julia 1.11.2",
   "language": "julia",
   "name": "julia-1.11"
  },
  "language_info": {
   "file_extension": ".jl",
   "mimetype": "application/julia",
   "name": "julia",
   "version": "1.11.2"
  }
 },
 "nbformat": 4,
 "nbformat_minor": 2
}
