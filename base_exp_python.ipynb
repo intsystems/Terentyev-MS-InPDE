{
 "cells": [
  {
   "cell_type": "code",
   "execution_count": null,
   "metadata": {},
   "outputs": [
    {
     "name": "stderr",
     "output_type": "stream",
     "text": [
      "[ Info: Julia version info\n"
     ]
    },
    {
     "name": "stdout",
     "output_type": "stream",
     "text": [
      "Julia Version 1.10.4\n",
      "Commit 48d4fd4843 (2024-06-04 10:41 UTC)\n",
      "Build Info:\n",
      "  https://github.com/conda-forge/julia-feedstock\n",
      "\n",
      "    Note: This is an unofficial build, please report bugs to the project\n",
      "    responsible for this build and not to the Julia project unless you can\n",
      "    reproduce the issue using official builds available at https://julialang.org/downloads\n",
      "\n",
      "Platform Info:\n",
      "  OS: Linux (x86_64-conda-linux-gnu)\n",
      "      Ubuntu 22.04.5 LTS\n",
      "  uname: Linux 5.15.167.4-microsoft-standard-WSL2 #1 SMP Tue Nov 5 00:21:55 UTC 2024 x86_64 x86_64\n",
      "  CPU: AMD Ryzen 9 5900X 12-Core Processor: \n",
      "                 speed         user         nice          sys         idle          irq\n",
      "       #1-24  3700 MHz      13589 s       1924 s       1672 s     257517 s          0 s\n",
      "  Memory: 15.581550598144531 GB (12164.08984375 MB free)\n",
      "  Uptime: 1146.91 sec\n",
      "  Load Avg:  0.31  0.71  0.91\n",
      "  WORD_SIZE: 64\n",
      "  LIBM: libopenlibm\n",
      "  LLVM: libLLVM-15.0.7 (ORCJIT, znver3)\n",
      "Threads: 1 default, 0 interactive, 1 GC (on 24 virtual cores)\n",
      "Environment:\n",
      "  JULIA_CONDAPKG_BACKEND_BACKUP = \n",
      "  JULIA_CONDAPKG_BACKEND = System\n",
      "  JULIA_LOAD_PATH = @:@inverse-pde:@stdlib\n",
      "  JULIA_LOAD_PATH_BACKUP = \n",
      "  JULIA_DEPOT_PATH_BACKUP = \n",
      "  JULIA_PROJECT_BACKUP = \n",
      "  JULIA_CONDAPKG_EXE = /home/sasha/anaconda3/bin/conda\n",
      "  JULIA_SSL_CA_ROOTS_PATH = /home/sasha/anaconda3/envs/inverse-pde/ssl/cacert.pem\n",
      "  JULIA_DEPOT_PATH = /home/sasha/anaconda3/envs/inverse-pde/share/julia:\n",
      "  JULIA_PROJECT = @inverse-pde\n",
      "  JULIA_SSL_CA_ROOTS_PATH_BACKUP = \n",
      "  JULIA_CONDAPKG_EXE_BACKUP = \n",
      "  HOME = /home/sasha\n",
      "  TERM = xterm-color\n",
      "  PATH = /home/sasha/anaconda3/envs/inverse-pde/bin:/home/sasha/.vscode-server/bin/fabdb6a30b49f79a7aba0f2ad9df9b399473380f/bin/remote-cli:/home/sasha/.local/bin:/home/sasha/.juliaup/bin:/home/sasha/anaconda3/condabin:/usr/local/sbin:/usr/local/bin:/usr/sbin:/usr/bin:/sbin:/bin:/usr/games:/usr/local/games:/usr/lib/wsl/lib:/mnt/c/Program Files (x86)/Common Files/Oracle/Java/java8path:/mnt/c/Program Files (x86)/Common Files/Oracle/Java/javapath:/mnt/c/Program Files/NVIDIA GPU Computing Toolkit/CUDA/v12.2/bin:/mnt/c/Program Files/NVIDIA GPU Computing Toolkit/CUDA/v12.2/libnvvp:/mnt/c/WINDOWS/system32:/mnt/c/WINDOWS:/mnt/c/WINDOWS/System32/Wbem:/mnt/c/WINDOWS/System32/WindowsPowerShell/v1.0:/mnt/c/WINDOWS/System32/OpenSSH:/mnt/c/Program Files (x86)/NVIDIA Corporation/PhysX/Common:/mnt/c/Program Files/NVIDIA Corporation/Nsight Compute 2023.2.2:/mnt/c/Program Files/Microsoft SQL Server/150/Tools/Binn:/mnt/c/Program Files/Microsoft SQL Server/Client SDK/ODBC/170/Tools/Binn:/mnt/c/Program Files/dotnet:/mnt/c/Program Files/Pandoc:/mnt/c/Program Files (x86)/Pandoc:/mnt/c/Program Files/Git/cmd:/mnt/c/Program Files/Git LFS:/mnt/c/Program Files (x86)/Windows Kits/10/Windows Performance Toolkit:/mnt/c/WINDOWS/system32:/mnt/c/WINDOWS:/mnt/c/WINDOWS/System32/Wbem:/mnt/c/WINDOWS/System32/WindowsPowerShell/v1.0:/mnt/c/WINDOWS/System32/OpenSSH:/mnt/c/Program Files/NVIDIA Corporation/NVIDIA app/NvDLISR:/mnt/c/Users/sasha/AppData/Local/Microsoft/WindowsApps:/mnt/c/Users/sasha/AppData/Local/Programs/Microsoft VS Code/bin:/mnt/c/Users/sasha/AppData/Local/Microsoft/WinGet/Links:/snap/bin\n",
      "  CONDA_JL_HOME = /home/sasha/anaconda3/envs/inverse-pde\n",
      "  CONDA_JL_HOME_BACKUP = \n"
     ]
    },
    {
     "name": "stderr",
     "output_type": "stream",
     "text": [
      "[ Info: Julia executable: /home/sasha/anaconda3/envs/inverse-pde/bin/julia\n",
      "[ Info: Trying to import PyCall...\n",
      "┌ Error: `import PyCall` failed\n",
      "│   exception =\n",
      "│    ArgumentError: Package PyCall [438e738f-606a-5dbb-bf0a-cddfbfd45ab0] is required but does not seem to be installed:\n",
      "│     - Run `Pkg.instantiate()` to install all recorded dependencies.\n",
      "│    \n",
      "│    Stacktrace:\n",
      "│      [1] _require(pkg::Base.PkgId, env::Nothing)\n",
      "│        @ Base ./loading.jl:1926\n",
      "│      [2] __require_prelocked(uuidkey::Base.PkgId, env::Nothing)\n",
      "│        @ Base ./loading.jl:1812\n",
      "│      [3] #invoke_in_world#3\n",
      "│        @ ./essentials.jl:926 [inlined]\n",
      "│      [4] invoke_in_world\n",
      "│        @ ./essentials.jl:923 [inlined]\n",
      "│      [5] _require_prelocked\n",
      "│        @ ./loading.jl:1803 [inlined]\n",
      "│      [6] _require_prelocked\n",
      "│        @ ./loading.jl:1802 [inlined]\n",
      "│      [7] macro expansion\n",
      "│        @ ./lock.jl:267 [inlined]\n",
      "│      [8] require(uuidkey::Base.PkgId)\n",
      "│        @ Base ./loading.jl:1797\n",
      "│      [9] top-level scope\n",
      "│        @ ~/anaconda3/envs/inverse-pde/lib/python3.12/site-packages/julia/install.jl:36\n",
      "│     [10] include(mod::Module, _path::String)\n",
      "│        @ Base ./Base.jl:495\n",
      "│     [11] exec_options(opts::Base.JLOptions)\n",
      "│        @ Base ./client.jl:318\n",
      "│     [12] _start()\n",
      "│        @ Base ./client.jl:552\n",
      "└ @ Main ~/anaconda3/envs/inverse-pde/lib/python3.12/site-packages/julia/install.jl:38\n",
      "[ Info: Installing PyCall...\n",
      "   Resolving package versions...\n",
      "    Updating `~/anaconda3/envs/inverse-pde/share/julia/environments/inverse-pde/Project.toml`\n",
      "  [438e738f] + PyCall v1.96.4\n",
      "    Updating `~/anaconda3/envs/inverse-pde/share/julia/environments/inverse-pde/Manifest.toml`\n",
      "  [8f4d0f93] + Conda v1.10.2\n",
      "  [682c06a0] + JSON v0.21.4\n",
      "  [1914dd2f] + MacroTools v0.5.13\n",
      "  [69de0a69] + Parsers v2.8.1\n",
      "  [aea7be01] + PrecompileTools v1.2.1\n",
      "  [21216c6a] + Preferences v1.4.3\n",
      "  [438e738f] + PyCall v1.96.4\n",
      "  [81def892] + VersionParsing v1.3.0\n",
      "  [0dad84c5] + ArgTools v1.1.1\n",
      "  [56f22d72] + Artifacts\n",
      "  [2a0f44e3] + Base64\n",
      "  [ade2ca70] + Dates\n",
      "  [f43a241f] + Downloads v1.6.0\n",
      "  [7b1f6079] + FileWatching\n",
      "  [b27032c2] + LibCURL v0.6.4\n",
      "  [8f399da3] + Libdl\n",
      "  [37e2e46d] + LinearAlgebra\n",
      "  [d6f4376e] + Markdown\n",
      "  [a63ad114] + Mmap\n",
      "  [ca575930] + NetworkOptions v1.2.0\n",
      "  [de0858da] + Printf\n",
      "  [9a3f8284] + Random\n",
      "  [ea8e919c] + SHA v0.7.0\n",
      "  [9e88b42a] + Serialization\n",
      "  [fa267f1f] + TOML v1.0.3\n",
      "  [cf7118a7] + UUIDs\n",
      "  [4ec0a83e] + Unicode\n",
      "  [e66e0078] + CompilerSupportLibraries_jll v1.1.1+0\n",
      "  [deac9b47] + LibCURL_jll v8.4.0+0\n",
      "  [29816b5a] + LibSSH2_jll v1.11.0+1\n",
      "  [c8ffd9c3] + MbedTLS_jll v2.28.2+1\n",
      "  [14a3606d] + MozillaCACerts_jll v2023.1.10\n",
      "  [4536629a] + OpenBLAS_jll v0.3.23+4\n",
      "  [83775a58] + Zlib_jll v1.2.13+1\n",
      "  [8e850b90] + libblastrampoline_jll v5.8.0+1\n",
      "  [8e850ede] + nghttp2_jll v1.52.0+1\n",
      "Precompiling project...\n",
      "  ✓ CompilerSupportLibraries_jll\n",
      "  ✓ VersionParsing\n",
      "  ✓ Preferences\n",
      "  ✓ PrecompileTools\n",
      "  ✓ MacroTools\n",
      "  ✓ Parsers\n",
      "  ✓ JSON\n",
      "  ✓ Conda\n",
      "  ✓ PyCall\n",
      "  9 dependencies successfully precompiled in 20 seconds. 1 already precompiled.\n",
      "\n",
      "Precompiling PyCall...\n",
      "Precompiling PyCall... DONE\n",
      "PyCall is installed and built successfully.\n"
     ]
    }
   ],
   "source": [
    "import julia\n",
    "julia.install()"
   ]
  },
  {
   "cell_type": "code",
   "execution_count": null,
   "metadata": {},
   "outputs": [],
   "source": [
    "import julia\n",
    "from julia.api import Julia\n",
    "jl = Julia(compiled_modules=False)"
   ]
  },
  {
   "cell_type": "code",
   "execution_count": 3,
   "metadata": {},
   "outputs": [],
   "source": [
    "from julia import Main\n",
    "from julia import Pkg"
   ]
  },
  {
   "cell_type": "code",
   "execution_count": 6,
   "metadata": {},
   "outputs": [
    {
     "ename": "NameError",
     "evalue": "name 'Pkg' is not defined",
     "output_type": "error",
     "traceback": [
      "\u001b[0;31m---------------------------------------------------------------------------\u001b[0m",
      "\u001b[0;31mNameError\u001b[0m                                 Traceback (most recent call last)",
      "Cell \u001b[0;32mIn[6], line 5\u001b[0m\n\u001b[1;32m      1\u001b[0m \u001b[38;5;66;03m#Pkg.add(\"Flux\")\u001b[39;00m\n\u001b[1;32m      2\u001b[0m \u001b[38;5;66;03m#Pkg.add(\"Tracker\")\u001b[39;00m\n\u001b[1;32m      3\u001b[0m \u001b[38;5;66;03m#Pkg.add('ForwardDiff')\u001b[39;00m\n\u001b[1;32m      4\u001b[0m \u001b[38;5;66;03m#Pkg.add('Lux')\u001b[39;00m\n\u001b[0;32m----> 5\u001b[0m Pkg\u001b[38;5;241m.\u001b[39madd(\u001b[38;5;124m\"\u001b[39m\u001b[38;5;124mOptimization\u001b[39m\u001b[38;5;124m\"\u001b[39m)\n\u001b[1;32m      6\u001b[0m Pkg\u001b[38;5;241m.\u001b[39madd(\u001b[38;5;124m\"\u001b[39m\u001b[38;5;124mOptimizationOptimJL\u001b[39m\u001b[38;5;124m\"\u001b[39m)\n\u001b[1;32m      7\u001b[0m Pkg\u001b[38;5;241m.\u001b[39madd(\u001b[38;5;124m\"\u001b[39m\u001b[38;5;124mLineSearches\u001b[39m\u001b[38;5;124m\"\u001b[39m)\n",
      "\u001b[0;31mNameError\u001b[0m: name 'Pkg' is not defined"
     ]
    }
   ],
   "source": [
    "#Pkg.add(\"Flux\")\n",
    "#Pkg.add(\"Tracker\")\n",
    "#Pkg.add('ForwardDiff')\n",
    "#Pkg.add('Lux')\n",
    "Pkg.add(\"Optimization\")\n",
    "Pkg.add(\"OptimizationOptimJL\")\n",
    "Pkg.add(\"LineSearches\")\n",
    "Pkg.add(\"Plots\")\n",
    "Pkg.add(\"ModelingToolkit\")"
   ]
  },
  {
   "cell_type": "code",
   "execution_count": 4,
   "metadata": {},
   "outputs": [
    {
     "name": "stdout",
     "output_type": "stream",
     "text": [
      "Initializing Julia interpreter. This may take some time...\n"
     ]
    }
   ],
   "source": [
    "%load_ext julia.magic"
   ]
  },
  {
   "cell_type": "code",
   "execution_count": 5,
   "metadata": {},
   "outputs": [
    {
     "ename": "ValueError",
     "evalue": "<PyCall.jlwrap (in a Julia function called from Python)\nJULIA: ArgumentError: Package Flux not found in current path.\n- Run `import Pkg; Pkg.add(\"Flux\")` to install the Flux package.\nStacktrace:\n  [1] macro expansion\n    @ ./loading.jl:1772 [inlined]\n  [2] macro expansion\n    @ ./lock.jl:267 [inlined]\n  [3] __require(into::Module, mod::Symbol)\n    @ Base ./loading.jl:1753\n  [4] #invoke_in_world#3\n    @ ./essentials.jl:926 [inlined]\n  [5] invoke_in_world\n    @ ./essentials.jl:923 [inlined]\n  [6] require(into::Module, mod::Symbol)\n    @ Base ./loading.jl:1746\n  [7] top-level scope\n    @ none:3\n  [8] eval\n    @ ./boot.jl:385 [inlined]\n  [9] eval\n    @ ./Base.jl:88 [inlined]\n [10] (::var\"#1#2\")(globals::PyObject, locals::PyObject)\n    @ Main ~/anaconda3/envs/inverse-pde/lib/python3.12/site-packages/julia/pyjulia_helper.jl:91\n [11] (::PyCall.FuncWrapper{Tuple{PyObject, PyObject}, var\"#1#2\"})(::PyObject, ::Vararg{PyObject}; kws::@Kwargs{})\n    @ PyCall ~/.julia/packages/PyCall/1gn3u/src/callback.jl:56\n [12] invokelatest(::Any, ::Any, ::Vararg{Any}; kwargs::@Kwargs{})\n    @ Base ./essentials.jl:892\n [13] invokelatest(::Any, ::Any, ::Vararg{Any})\n    @ Base ./essentials.jl:889\n [14] _pyjlwrap_call(f::PyCall.FuncWrapper{Tuple{PyObject, PyObject}, var\"#1#2\"}, args_::Ptr{PyCall.PyObject_struct}, kw_::Ptr{PyCall.PyObject_struct})\n    @ PyCall ~/.julia/packages/PyCall/1gn3u/src/callback.jl:28\n [15] pyjlwrap_call(self_::Ptr{PyCall.PyObject_struct}, args_::Ptr{PyCall.PyObject_struct}, kw_::Ptr{PyCall.PyObject_struct})\n    @ PyCall ~/.julia/packages/PyCall/1gn3u/src/callback.jl:44>",
     "output_type": "error",
     "traceback": [
      "\u001b[0;31m---------------------------------------------------------------------------\u001b[0m",
      "\u001b[0;31mValueError\u001b[0m                                Traceback (most recent call last)",
      "Cell \u001b[0;32mIn[5], line 1\u001b[0m\n\u001b[0;32m----> 1\u001b[0m get_ipython()\u001b[38;5;241m.\u001b[39mrun_cell_magic(\u001b[38;5;124m'\u001b[39m\u001b[38;5;124mjulia\u001b[39m\u001b[38;5;124m'\u001b[39m, \u001b[38;5;124m'\u001b[39m\u001b[38;5;124m'\u001b[39m, \u001b[38;5;124m'\u001b[39m\u001b[38;5;124musing Flux, Tracker\u001b[39m\u001b[38;5;130;01m\\n\u001b[39;00m\u001b[38;5;124mx = [0.8; 0.8]\u001b[39m\u001b[38;5;130;01m\\n\u001b[39;00m\u001b[38;5;124mann = Chain(Dense(2, 10, tanh), Dense(10, 1))\u001b[39m\u001b[38;5;130;01m\\n\u001b[39;00m\u001b[38;5;124mp, re = Flux.destructure(ann)\u001b[39m\u001b[38;5;130;01m\\n\u001b[39;00m\u001b[38;5;124mz = re(p)\u001b[39m\u001b[38;5;130;01m\\n\u001b[39;00m\u001b[38;5;124m'\u001b[39m)\n",
      "File \u001b[0;32m~/anaconda3/envs/inverse-pde/lib/python3.12/site-packages/IPython/core/interactiveshell.py:2541\u001b[0m, in \u001b[0;36mInteractiveShell.run_cell_magic\u001b[0;34m(self, magic_name, line, cell)\u001b[0m\n\u001b[1;32m   2539\u001b[0m \u001b[38;5;28;01mwith\u001b[39;00m \u001b[38;5;28mself\u001b[39m\u001b[38;5;241m.\u001b[39mbuiltin_trap:\n\u001b[1;32m   2540\u001b[0m     args \u001b[38;5;241m=\u001b[39m (magic_arg_s, cell)\n\u001b[0;32m-> 2541\u001b[0m     result \u001b[38;5;241m=\u001b[39m fn(\u001b[38;5;241m*\u001b[39margs, \u001b[38;5;241m*\u001b[39m\u001b[38;5;241m*\u001b[39mkwargs)\n\u001b[1;32m   2543\u001b[0m \u001b[38;5;66;03m# The code below prevents the output from being displayed\u001b[39;00m\n\u001b[1;32m   2544\u001b[0m \u001b[38;5;66;03m# when using magics with decorator @output_can_be_silenced\u001b[39;00m\n\u001b[1;32m   2545\u001b[0m \u001b[38;5;66;03m# when the last Python token in the expression is a ';'.\u001b[39;00m\n\u001b[1;32m   2546\u001b[0m \u001b[38;5;28;01mif\u001b[39;00m \u001b[38;5;28mgetattr\u001b[39m(fn, magic\u001b[38;5;241m.\u001b[39mMAGIC_OUTPUT_CAN_BE_SILENCED, \u001b[38;5;28;01mFalse\u001b[39;00m):\n",
      "File \u001b[0;32m~/anaconda3/envs/inverse-pde/lib/python3.12/site-packages/julia/magic.py:130\u001b[0m, in \u001b[0;36mJuliaMagics.julia\u001b[0;34m(self, line, cell)\u001b[0m\n\u001b[1;32m    126\u001b[0m     caller_frame \u001b[38;5;241m=\u001b[39m caller_frame\u001b[38;5;241m.\u001b[39mf_back\n\u001b[1;32m    128\u001b[0m return_value \u001b[38;5;241m=\u001b[39m \u001b[38;5;124m\"\u001b[39m\u001b[38;5;124mnothing\u001b[39m\u001b[38;5;124m\"\u001b[39m \u001b[38;5;28;01mif\u001b[39;00m src\u001b[38;5;241m.\u001b[39mstrip()\u001b[38;5;241m.\u001b[39mendswith(\u001b[38;5;124m\"\u001b[39m\u001b[38;5;124m;\u001b[39m\u001b[38;5;124m\"\u001b[39m) \u001b[38;5;28;01melse\u001b[39;00m \u001b[38;5;124m\"\u001b[39m\u001b[38;5;124m\"\u001b[39m\n\u001b[0;32m--> 130\u001b[0m \u001b[38;5;28;01mreturn\u001b[39;00m \u001b[38;5;28mself\u001b[39m\u001b[38;5;241m.\u001b[39m_julia\u001b[38;5;241m.\u001b[39meval(\n\u001b[1;32m    131\u001b[0m \u001b[38;5;250m    \u001b[39m\u001b[38;5;124;03m\"\"\"\u001b[39;00m\n\u001b[1;32m    132\u001b[0m \u001b[38;5;124;03m    _PyJuliaHelper.@prepare_for_pyjulia_call begin\u001b[39;00m\n\u001b[1;32m    133\u001b[0m \u001b[38;5;124;03m        begin %s end\u001b[39;00m\n\u001b[1;32m    134\u001b[0m \u001b[38;5;124;03m        %s\u001b[39;00m\n\u001b[1;32m    135\u001b[0m \u001b[38;5;124;03m    end\u001b[39;00m\n\u001b[1;32m    136\u001b[0m \u001b[38;5;124;03m    \"\"\"\u001b[39;00m\n\u001b[1;32m    137\u001b[0m     \u001b[38;5;241m%\u001b[39m (src, return_value)\n\u001b[1;32m    138\u001b[0m )(\u001b[38;5;28mself\u001b[39m\u001b[38;5;241m.\u001b[39mshell\u001b[38;5;241m.\u001b[39muser_ns, caller_frame\u001b[38;5;241m.\u001b[39mf_locals)\n",
      "\u001b[0;31mValueError\u001b[0m: <PyCall.jlwrap (in a Julia function called from Python)\nJULIA: ArgumentError: Package Flux not found in current path.\n- Run `import Pkg; Pkg.add(\"Flux\")` to install the Flux package.\nStacktrace:\n  [1] macro expansion\n    @ ./loading.jl:1772 [inlined]\n  [2] macro expansion\n    @ ./lock.jl:267 [inlined]\n  [3] __require(into::Module, mod::Symbol)\n    @ Base ./loading.jl:1753\n  [4] #invoke_in_world#3\n    @ ./essentials.jl:926 [inlined]\n  [5] invoke_in_world\n    @ ./essentials.jl:923 [inlined]\n  [6] require(into::Module, mod::Symbol)\n    @ Base ./loading.jl:1746\n  [7] top-level scope\n    @ none:3\n  [8] eval\n    @ ./boot.jl:385 [inlined]\n  [9] eval\n    @ ./Base.jl:88 [inlined]\n [10] (::var\"#1#2\")(globals::PyObject, locals::PyObject)\n    @ Main ~/anaconda3/envs/inverse-pde/lib/python3.12/site-packages/julia/pyjulia_helper.jl:91\n [11] (::PyCall.FuncWrapper{Tuple{PyObject, PyObject}, var\"#1#2\"})(::PyObject, ::Vararg{PyObject}; kws::@Kwargs{})\n    @ PyCall ~/.julia/packages/PyCall/1gn3u/src/callback.jl:56\n [12] invokelatest(::Any, ::Any, ::Vararg{Any}; kwargs::@Kwargs{})\n    @ Base ./essentials.jl:892\n [13] invokelatest(::Any, ::Any, ::Vararg{Any})\n    @ Base ./essentials.jl:889\n [14] _pyjlwrap_call(f::PyCall.FuncWrapper{Tuple{PyObject, PyObject}, var\"#1#2\"}, args_::Ptr{PyCall.PyObject_struct}, kw_::Ptr{PyCall.PyObject_struct})\n    @ PyCall ~/.julia/packages/PyCall/1gn3u/src/callback.jl:28\n [15] pyjlwrap_call(self_::Ptr{PyCall.PyObject_struct}, args_::Ptr{PyCall.PyObject_struct}, kw_::Ptr{PyCall.PyObject_struct})\n    @ PyCall ~/.julia/packages/PyCall/1gn3u/src/callback.jl:44>"
     ]
    }
   ],
   "source": [
    "%%julia \n",
    "using Flux, Tracker\n",
    "x = [0.8; 0.8]\n",
    "ann = Chain(Dense(2, 10, tanh), Dense(10, 1))\n",
    "p, re = Flux.destructure(ann)\n",
    "z = re(p)\n"
   ]
  },
  {
   "cell_type": "code",
   "execution_count": 6,
   "metadata": {},
   "outputs": [
    {
     "data": {
      "text/plain": [
       "<PyCall.jlwrap Chain(Dense(2 => 10, tanh), Dense(10 => 1))>"
      ]
     },
     "execution_count": 6,
     "metadata": {},
     "output_type": "execute_result"
    }
   ],
   "source": [
    "Main.z"
   ]
  }
 ],
 "metadata": {
  "kernelspec": {
   "display_name": "julia",
   "language": "python",
   "name": "python3"
  },
  "language_info": {
   "codemirror_mode": {
    "name": "ipython",
    "version": 3
   },
   "file_extension": ".py",
   "mimetype": "text/x-python",
   "name": "python",
   "nbconvert_exporter": "python",
   "pygments_lexer": "ipython3",
   "version": "3.12.7"
  }
 },
 "nbformat": 4,
 "nbformat_minor": 2
}
