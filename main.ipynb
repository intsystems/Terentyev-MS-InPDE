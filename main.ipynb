{
 "cells": [
  {
   "cell_type": "code",
   "execution_count": 2,
   "metadata": {},
   "outputs": [
    {
     "name": "stdout",
     "output_type": "stream",
     "text": [
      "[juliapkg] Found dependencies: /home/sasha/anaconda3/envs/inverse-pde/lib/python3.12/site-packages/juliacall/juliapkg.json\n",
      "[juliapkg] Found dependencies: /home/sasha/anaconda3/envs/inverse-pde/lib/python3.12/site-packages/juliapkg/juliapkg.json\n",
      "[juliapkg] Locating Julia ~1.6.1, ~1.7, ~1.8, ~1.9, =1.10.0, ^1.10.3\n",
      "[juliapkg] Installing Julia 1.11.3 using JuliaUp\n",
      "[juliapkg] Using Julia 1.11.2 at /home/sasha/.juliaup/bin/julia\n",
      "[juliapkg] Using Julia project at /home/sasha/anaconda3/envs/inverse-pde/julia_env\n",
      "[juliapkg] Installing packages:\n",
      "           julia> import Pkg\n",
      "           julia> Pkg.Registry.update()\n",
      "           julia> Pkg.add([Pkg.PackageSpec(name=\"PythonCall\", uuid=\"6099a3de-0909-46bc-b1f4-468b9a2dfc0d\")])\n",
      "           julia> Pkg.resolve()\n",
      "           julia> Pkg.precompile()\n"
     ]
    },
    {
     "name": "stderr",
     "output_type": "stream",
     "text": [
      "The latest version of Julia in the `release` channel is 1.11.3+0.x64.linux.gnu. You currently have `1.11.2+0.x64.linux.gnu` installed. Run:\n",
      "\n",
      "  juliaup update\n",
      "\n",
      "in your terminal shell to install Julia 1.11.3+0.x64.linux.gnu and update the `release` channel to that version.\n",
      "  Installing known registries into `~/anaconda3/envs/inverse-pde/share/julia`\n",
      "       Added `General` registry to ~/anaconda3/envs/inverse-pde/share/julia/registries\n",
      "    Updating registry at `~/anaconda3/envs/inverse-pde/share/julia/registries/General.toml`\n",
      "   Resolving package versions...\n",
      "   Installed MicroMamba ────────────────── v0.1.14\n",
      "   Installed Scratch ───────────────────── v1.2.1\n",
      "   Installed Parsers ───────────────────── v2.8.1\n",
      "   Installed TableTraits ───────────────── v1.0.1\n",
      "   Installed Tables ────────────────────── v1.12.0\n",
      "   Installed JSON3 ─────────────────────── v1.14.1\n",
      "   Installed Preferences ───────────────── v1.4.3\n",
      "   Installed PythonCall ────────────────── v0.9.24\n",
      "   Installed DataAPI ───────────────────── v1.16.0\n",
      "   Installed Pidfile ───────────────────── v1.3.0\n",
      "   Installed micromamba_jll ────────────── v1.5.8+0\n",
      "   Installed DataValueInterfaces ───────── v1.0.0\n",
      "   Installed IteratorInterfaceExtensions ─ v1.0.0\n",
      "   Installed JLLWrappers ───────────────── v1.7.0\n",
      "   Installed OrderedCollections ────────── v1.8.0\n",
      "   Installed PrecompileTools ───────────── v1.2.1\n",
      "   Installed Requires ──────────────────── v1.3.1\n",
      "   Installed MacroTools ────────────────── v0.5.15\n",
      "   Installed UnsafePointers ────────────── v1.0.0\n",
      "   Installed pixi_jll ──────────────────── v0.41.3+0\n",
      "   Installed CondaPkg ──────────────────── v0.2.26\n",
      "   Installed StructTypes ───────────────── v1.11.0\n",
      "    Updating `~/anaconda3/envs/inverse-pde/julia_env/Project.toml`\n",
      "  [6099a3de] + PythonCall v0.9.24\n",
      "    Updating `~/anaconda3/envs/inverse-pde/julia_env/Manifest.toml`\n",
      "  [992eb4ea] + CondaPkg v0.2.26\n",
      "  [9a962f9c] + DataAPI v1.16.0\n",
      "  [e2d170a0] + DataValueInterfaces v1.0.0\n",
      "  [82899510] + IteratorInterfaceExtensions v1.0.0\n",
      "  [692b3bcd] + JLLWrappers v1.7.0\n",
      "  [0f8b85d8] + JSON3 v1.14.1\n",
      "  [1914dd2f] + MacroTools v0.5.15\n",
      "  [0b3b1443] + MicroMamba v0.1.14\n",
      "  [bac558e1] + OrderedCollections v1.8.0\n",
      "  [69de0a69] + Parsers v2.8.1\n",
      "  [fa939f87] + Pidfile v1.3.0\n",
      "  [aea7be01] + PrecompileTools v1.2.1\n",
      "  [21216c6a] + Preferences v1.4.3\n",
      "  [6099a3de] + PythonCall v0.9.24\n",
      "  [ae029012] + Requires v1.3.1\n",
      "  [6c6a2e73] + Scratch v1.2.1\n",
      "  [856f2bd8] + StructTypes v1.11.0\n",
      "  [3783bdb8] + TableTraits v1.0.1\n",
      "  [bd369af6] + Tables v1.12.0\n",
      "  [e17b2a0c] + UnsafePointers v1.0.0\n",
      "  [f8abcde7] + micromamba_jll v1.5.8+0\n",
      "  [4d7b5844] + pixi_jll v0.41.3+0\n",
      "  [0dad84c5] + ArgTools v1.1.2\n",
      "  [56f22d72] + Artifacts v1.11.0\n",
      "  [2a0f44e3] + Base64 v1.11.0\n",
      "  [ade2ca70] + Dates v1.11.0\n",
      "  [f43a241f] + Downloads v1.6.0\n",
      "  [7b1f6079] + FileWatching v1.11.0\n",
      "  [b77e0a4c] + InteractiveUtils v1.11.0\n",
      "  [4af54fe1] + LazyArtifacts v1.11.0\n",
      "  [b27032c2] + LibCURL v0.6.4\n",
      "  [76f85450] + LibGit2 v1.11.0\n",
      "  [8f399da3] + Libdl v1.11.0\n",
      "  [56ddb016] + Logging v1.11.0\n",
      "  [d6f4376e] + Markdown v1.11.0\n",
      "  [a63ad114] + Mmap v1.11.0\n",
      "  [ca575930] + NetworkOptions v1.2.0\n",
      "  [44cfe95a] + Pkg v1.11.0\n",
      "  [de0858da] + Printf v1.11.0\n",
      "  [9a3f8284] + Random v1.11.0\n",
      "  [ea8e919c] + SHA v0.7.0\n",
      "  [9e88b42a] + Serialization v1.11.0\n",
      "  [fa267f1f] + TOML v1.0.3\n",
      "  [a4e569a6] + Tar v1.10.0\n",
      "  [8dfed614] + Test v1.11.0\n",
      "  [cf7118a7] + UUIDs v1.11.0\n",
      "  [4ec0a83e] + Unicode v1.11.0\n",
      "  [deac9b47] + LibCURL_jll v8.6.0+0\n",
      "  [e37daf67] + LibGit2_jll v1.7.2+0\n",
      "  [29816b5a] + LibSSH2_jll v1.11.0+1\n",
      "  [c8ffd9c3] + MbedTLS_jll v2.28.6+0\n",
      "  [14a3606d] + MozillaCACerts_jll v2023.12.12\n",
      "  [83775a58] + Zlib_jll v1.2.13+1\n",
      "  [8e850ede] + nghttp2_jll v1.59.0+0\n",
      "  [3f19e933] + p7zip_jll v17.4.0+2\n",
      "Precompiling project...\n",
      "    606.3 ms  ✓ IteratorInterfaceExtensions\n",
      "    609.8 ms  ✓ DataValueInterfaces\n",
      "    631.1 ms  ✓ DataAPI\n",
      "    638.8 ms  ✓ UnsafePointers\n",
      "    641.3 ms  ✓ Scratch\n",
      "    669.0 ms  ✓ Pidfile\n",
      "    719.4 ms  ✓ Requires\n",
      "    851.5 ms  ✓ OrderedCollections\n",
      "    861.6 ms  ✓ Preferences\n",
      "    341.2 ms  ✓ TableTraits\n",
      "   1037.9 ms  ✓ StructTypes\n",
      "    378.3 ms  ✓ PrecompileTools\n",
      "    439.6 ms  ✓ JLLWrappers\n",
      "    786.1 ms  ✓ Tables\n",
      "   2096.3 ms  ✓ MacroTools\n",
      "    994.8 ms  ✓ pixi_jll\n",
      "   1036.1 ms  ✓ micromamba_jll\n",
      "   3367.7 ms  ✓ MicroMamba\n",
      "  12859.1 ms  ✓ Parsers\n",
      "   6968.5 ms  ✓ JSON3\n",
      "   1871.3 ms  ✓ CondaPkg\n",
      "   9860.5 ms  ✓ PythonCall\n",
      "  22 dependencies successfully precompiled in 33 seconds. 28 already precompiled.\n",
      "  1 dependency had output during precompilation:\n",
      "┌ MicroMamba\n",
      "│  Downloading artifact: micromamba\n",
      "└  \n",
      "  No Changes to `~/anaconda3/envs/inverse-pde/julia_env/Project.toml`\n",
      "  No Changes to `~/anaconda3/envs/inverse-pde/julia_env/Manifest.toml`\n"
     ]
    },
    {
     "name": "stdout",
     "output_type": "stream",
     "text": [
      "Detected IPython. Loading juliacall extension. See https://juliapy.github.io/PythonCall.jl/stable/compat/#IPython\n"
     ]
    }
   ],
   "source": [
    "from juliacall import Main as jl"
   ]
  },
  {
   "cell_type": "code",
   "execution_count": 4,
   "metadata": {},
   "outputs": [
    {
     "name": "stdout",
     "output_type": "stream",
     "text": [
      "Hello from Julia!\n"
     ]
    },
    {
     "ename": "NameError",
     "evalue": "name 'array' is not defined",
     "output_type": "error",
     "traceback": [
      "\u001b[0;31m---------------------------------------------------------------------------\u001b[0m",
      "\u001b[0;31mNameError\u001b[0m                                 Traceback (most recent call last)",
      "Cell \u001b[0;32mIn[4], line 3\u001b[0m\n\u001b[1;32m      1\u001b[0m jl\u001b[38;5;241m.\u001b[39mprintln(\u001b[38;5;124m\"\u001b[39m\u001b[38;5;124mHello from Julia!\u001b[39m\u001b[38;5;124m\"\u001b[39m)\n\u001b[1;32m      2\u001b[0m jl\u001b[38;5;241m.\u001b[39mseval(\u001b[38;5;124m\"\u001b[39m\u001b[38;5;124musing Statistics\u001b[39m\u001b[38;5;124m\"\u001b[39m)\n\u001b[0;32m----> 3\u001b[0m x \u001b[38;5;241m=\u001b[39m array(\u001b[38;5;124m'\u001b[39m\u001b[38;5;124mi\u001b[39m\u001b[38;5;124m'\u001b[39m, [\u001b[38;5;241m1\u001b[39m, \u001b[38;5;241m2\u001b[39m, \u001b[38;5;241m3\u001b[39m])\n\u001b[1;32m      4\u001b[0m jl\u001b[38;5;241m.\u001b[39mmean(x)\n\u001b[1;32m      5\u001b[0m \u001b[38;5;66;03m# 2.0\u001b[39;00m\n",
      "\u001b[0;31mNameError\u001b[0m: name 'array' is not defined"
     ]
    }
   ],
   "source": [
    "jl.println(\"Hello from Julia!\")\n",
    "# Hello from Julia!\n",
    "x = jl.rand(range(10), 3, 5)\n",
    "x._jl_display()\n",
    "# 3×5 Matrix{Int64}:\n",
    "#  8  1  7  0  6\n",
    "#  9  2  1  4  0\n",
    "#  1  8  5  4  0\n",
    "import numpy\n",
    "numpy.sum(x, axis=0)\n",
    "# array([18, 11, 13,  8,  6], dtype=int64)"
   ]
  },
  {
   "cell_type": "code",
   "execution_count": 6,
   "metadata": {},
   "outputs": [
    {
     "data": {
      "text/plain": [
       "0.9819805060619657"
      ]
     },
     "execution_count": 6,
     "metadata": {},
     "output_type": "execute_result"
    }
   ],
   "source": [
    "from array import array\n",
    "jl.seval(\"using Statistics\")\n",
    "x = array('i', [1, 2, 3])\n",
    "jl.mean(x)\n",
    "# 2.0\n",
    "y = array('i', [2,4,8])\n",
    "jl.cor(x, y)\n",
    "# 0.9819805060619657"
   ]
  },
  {
   "cell_type": "code",
   "execution_count": 30,
   "metadata": {},
   "outputs": [
    {
     "name": "stdout",
     "output_type": "stream",
     "text": [
      "[[-1.         -1.        ]\n",
      " [-0.97979798 -1.        ]\n",
      " [-0.95959596 -1.        ]\n",
      " ...\n",
      " [ 0.95959596  1.        ]\n",
      " [ 0.97979798  1.        ]\n",
      " [ 1.          1.        ]]\n"
     ]
    }
   ],
   "source": [
    "import numpy as np\n",
    "Nx = 100\n",
    "Ny = 100\n",
    "xs = np.linspace(-1, 1, Nx)\n",
    "ys = np.linspace(-1, 1, Ny)\n",
    "mesh = np.stack(np.meshgrid(xs, ys, indexing='xy'), axis= -1).reshape(-1, 2)\n",
    "print(mesh)\n"
   ]
  },
  {
   "cell_type": "code",
   "execution_count": 31,
   "metadata": {},
   "outputs": [
    {
     "name": "stdout",
     "output_type": "stream",
     "text": [
      "[[   0    1    2 ...   97   98   99]\n",
      " [ 100  101  102 ...  197  198  199]\n",
      " [ 200  201  202 ...  297  298  299]\n",
      " ...\n",
      " [9700 9701 9702 ... 9797 9798 9799]\n",
      " [9800 9801 9802 ... 9897 9898 9899]\n",
      " [9900 9901 9902 ... 9997 9998 9999]]\n"
     ]
    }
   ],
   "source": [
    "from scipy.sparse import coo_array\n",
    "rangex = np.arange(Nx)\n",
    "rangey = np.arange(Ny)\n",
    "gridx, gridy = np.meshgrid(rangex, rangey, indexing='xy')\n",
    "grid = gridx + gridy * Nx\n",
    "print(grid)"
   ]
  },
  {
   "cell_type": "code",
   "execution_count": 32,
   "metadata": {},
   "outputs": [
    {
     "name": "stdout",
     "output_type": "stream",
     "text": [
      "[   0    1    2 ... 9996 9997 9998]\n",
      "[   1    2    3 ... 9897 9898 9899]\n"
     ]
    }
   ],
   "source": [
    "row  = np.concat((grid[:, :-1].reshape(-1), grid[:, 1:].reshape(-1), \n",
    "                  grid[:-1, :].reshape(-1), grid[1:, :].reshape(-1),\n",
    "                  grid[:-1, :-1].reshape(-1), grid[1:, 1:].reshape(-1), \n",
    "                  grid[:-1, 1:].reshape(-1), grid[1:, :-1].reshape(-1)))\n",
    "col  = np.concat((grid[:, :-1].reshape(-1) + 1, grid[:, 1:].reshape(-1) - 1,\n",
    "                  grid[:-1, :].reshape(-1) + Nx, grid[1:, :].reshape(-1) - Nx,\n",
    "                  grid[:-1, :-1].reshape(-1) + 1 + Nx, grid[1:, 1:].reshape(-1) - 1 - Nx, \n",
    "                  grid[:-1, 1:].reshape(-1) - 1 + Nx, grid[1:, :-1].reshape(-1) - Nx + 1))\n",
    "print(row)\n",
    "print(col)"
   ]
  },
  {
   "cell_type": "code",
   "execution_count": 33,
   "metadata": {},
   "outputs": [],
   "source": [
    "V = (xs[1] - xs[0]) * (ys[1] - ys[0])"
   ]
  },
  {
   "cell_type": "code",
   "execution_count": 6,
   "metadata": {},
   "outputs": [],
   "source": [
    "#V = 1"
   ]
  },
  {
   "cell_type": "code",
   "execution_count": 34,
   "metadata": {},
   "outputs": [],
   "source": [
    "data = np.ones(row.size) * V\n",
    "coo = coo_array((data, (row, col)), shape=(Ny * Nx, Nx * Ny))"
   ]
  },
  {
   "cell_type": "code",
   "execution_count": 35,
   "metadata": {},
   "outputs": [
    {
     "name": "stderr",
     "output_type": "stream",
     "text": [
      "/tmp/ipykernel_38866/4137642655.py:6: SparseEfficiencyWarning: spsolve requires A be CSC or CSR matrix format\n",
      "  L = scipy.sparse.linalg.spsolve(coo, b).T\n"
     ]
    }
   ],
   "source": [
    "import scipy\n",
    "M = 100\n",
    "b = np.zeros((Nx * Ny, M))\n",
    "for i in range(M):\n",
    "    b[i * (Nx // M), i] = 1\n",
    "L = scipy.sparse.linalg.spsolve(coo, b).T"
   ]
  },
  {
   "cell_type": "code",
   "execution_count": 36,
   "metadata": {},
   "outputs": [
    {
     "data": {
      "text/plain": [
       "array([[-1387.27782459,   977.3482    ,   -27.62805544, ...,\n",
       "        -4666.68056946,    64.62707404,  4685.85142875],\n",
       "       [  977.3482    , -1414.90588004,  -147.24200029, ...,\n",
       "         -568.59566167,    19.17085929,    64.62707404],\n",
       "       [  -27.62805544,  -147.24200029, -1649.49690628, ...,\n",
       "         3518.49354338,  -568.59566167, -4666.68056946],\n",
       "       ...,\n",
       "       [ 2031.12478629,  -361.96012307, -2379.83132278, ...,\n",
       "        -2169.76410714,  -292.13948682,  1593.91005837],\n",
       "       [  189.36745753,  -297.4685681 ,  -361.96012307, ...,\n",
       "         -292.13948682,  -734.68329602,  -578.25056611],\n",
       "       [-2328.59335439,   189.36745753,  2031.12478629, ...,\n",
       "         1593.91005837,  -578.25056611, -2328.59335439]],\n",
       "      shape=(100, 10000))"
      ]
     },
     "execution_count": 36,
     "metadata": {},
     "output_type": "execute_result"
    }
   ],
   "source": [
    "L"
   ]
  },
  {
   "cell_type": "code",
   "execution_count": 37,
   "metadata": {},
   "outputs": [],
   "source": [
    "def potential(x, x0 = 0):\n",
    "    return 1 / np.linalg.norm(x)"
   ]
  },
  {
   "cell_type": "code",
   "execution_count": 38,
   "metadata": {},
   "outputs": [],
   "source": [
    "coord_detecors = b.T @ mesh"
   ]
  },
  {
   "cell_type": "code",
   "execution_count": 39,
   "metadata": {},
   "outputs": [],
   "source": [
    "def get_detectors_signal(coord_detecors, phi_potential):\n",
    "    res = []\n",
    "    for point in coord_detecors:\n",
    "        res.append(phi_potential(point))\n",
    "    res = np.array(res)\n",
    "    return res"
   ]
  },
  {
   "cell_type": "code",
   "execution_count": 40,
   "metadata": {},
   "outputs": [],
   "source": [
    "r = get_detectors_signal(coord_detecors, potential)"
   ]
  },
  {
   "cell_type": "code",
   "execution_count": 42,
   "metadata": {},
   "outputs": [
    {
     "name": "stdout",
     "output_type": "stream",
     "text": [
      "[0.70710678 0.71428497 0.72153295 0.72884807 0.73622738 0.74366754\n",
      " 0.7511649  0.75871537 0.76631447 0.7739573  0.78163849 0.78935222\n",
      " 0.79709215 0.80485145 0.81262276 0.82039817 0.82816921 0.83592685\n",
      " 0.84366149 0.85136292 0.85902036 0.86662246 0.87415728 0.88161232\n",
      " 0.88897456 0.89623043 0.9033659  0.91036648 0.91721729 0.9239031\n",
      " 0.93040839 0.93671744 0.94281439 0.9486833  0.9543083  0.95967364\n",
      " 0.96476382 0.96956367 0.97405849 0.97823413 0.98207713 0.98557485\n",
      " 0.9887155  0.99148835 0.99388373 0.99589321 0.99750959 0.99872705\n",
      " 0.99954118 0.99994899 0.99994899 0.99954118 0.99872705 0.99750959\n",
      " 0.99589321 0.99388373 0.99148835 0.9887155  0.98557485 0.98207713\n",
      " 0.97823413 0.97405849 0.96956367 0.96476382 0.95967364 0.9543083\n",
      " 0.9486833  0.94281439 0.93671744 0.93040839 0.9239031  0.91721729\n",
      " 0.91036648 0.9033659  0.89623043 0.88897456 0.88161232 0.87415728\n",
      " 0.86662246 0.85902036 0.85136292 0.84366149 0.83592685 0.82816921\n",
      " 0.82039817 0.81262276 0.80485145 0.79709215 0.78935222 0.78163849\n",
      " 0.7739573  0.76631447 0.75871537 0.7511649  0.74366754 0.73622738\n",
      " 0.72884807 0.72153295 0.71428497 0.70710678]\n"
     ]
    }
   ],
   "source": [
    "print(r)"
   ]
  },
  {
   "cell_type": "code",
   "execution_count": 43,
   "metadata": {},
   "outputs": [],
   "source": [
    "mu = 0.01"
   ]
  },
  {
   "cell_type": "code",
   "execution_count": 44,
   "metadata": {},
   "outputs": [
    {
     "name": "stderr",
     "output_type": "stream",
     "text": [
      "/home/sasha/anaconda3/envs/inverse-pde/lib/python3.12/site-packages/sklearn/linear_model/_coordinate_descent.py:695: ConvergenceWarning: Objective did not converge. You might want to increase the number of iterations, check the scale of the features or consider increasing regularisation. Duality gap: 1.602e-03, tolerance: 8.798e-05\n",
      "  model = cd_fast.enet_coordinate_descent(\n"
     ]
    }
   ],
   "source": [
    "from sklearn import linear_model\n",
    "clf = linear_model.Lasso(alpha=mu)\n",
    "clf.fit(L, r)\n",
    "s = clf.coef_\n",
    "s_b = clf.intercept_"
   ]
  },
  {
   "cell_type": "code",
   "execution_count": 45,
   "metadata": {},
   "outputs": [
    {
     "data": {
      "text/plain": [
       "np.int64(2531)"
      ]
     },
     "execution_count": 45,
     "metadata": {},
     "output_type": "execute_result"
    }
   ],
   "source": [
    "np.sum(s != 0)"
   ]
  },
  {
   "cell_type": "code",
   "execution_count": 46,
   "metadata": {},
   "outputs": [
    {
     "data": {
      "text/plain": [
       "np.float64(3.8080039430821335e-05)"
      ]
     },
     "execution_count": 46,
     "metadata": {},
     "output_type": "execute_result"
    }
   ],
   "source": [
    "np.max(s)"
   ]
  },
  {
   "cell_type": "code",
   "execution_count": 47,
   "metadata": {},
   "outputs": [],
   "source": [
    "r_ = L @ s + s_b"
   ]
  },
  {
   "cell_type": "code",
   "execution_count": 48,
   "metadata": {},
   "outputs": [
    {
     "data": {
      "text/plain": [
       "array([0.70765035, 0.7144507 , 0.72231155, 0.72972507, 0.73698906,\n",
       "       0.74497601, 0.75243032, 0.76000366, 0.76773314, 0.77522033,\n",
       "       0.78296598, 0.79051785, 0.79828976, 0.80608888, 0.81383149,\n",
       "       0.82158517, 0.82953965, 0.83712664, 0.84485823, 0.85264973,\n",
       "       0.85993013, 0.86751418, 0.8749386 , 0.88200402, 0.88934789,\n",
       "       0.89631363, 0.90322046, 0.91010535, 0.91673993, 0.92321253,\n",
       "       0.92964284, 0.93563678, 0.94159434, 0.94759248, 0.95275613,\n",
       "       0.958525  , 0.96351948, 0.96813511, 0.97305569, 0.97686367,\n",
       "       0.98085727, 0.98443712, 0.98735752, 0.99035805, 0.99257055,\n",
       "       0.9946687 , 0.99634011, 0.99737443, 0.99844978, 0.99870772,\n",
       "       0.99857353, 0.99839907, 0.99747545, 0.99613835, 0.994788  ,\n",
       "       0.99257335, 0.99020094, 0.98760197, 0.98429873, 0.98089224,\n",
       "       0.97709   , 0.97281938, 0.96830139, 0.96346587, 0.9583644 ,\n",
       "       0.95298145, 0.9475097 , 0.94173001, 0.93570361, 0.92975603,\n",
       "       0.92319523, 0.91678445, 0.91015608, 0.90312943, 0.89642963,\n",
       "       0.88928727, 0.88209544, 0.87495739, 0.86757737, 0.86012933,\n",
       "       0.85244507, 0.84509653, 0.83707268, 0.82936965, 0.82176974,\n",
       "       0.8136479 , 0.80613169, 0.79837905, 0.79058139, 0.78290999,\n",
       "       0.77538174, 0.76762294, 0.7598935 , 0.75244608, 0.7448744 ,\n",
       "       0.73702508, 0.72977612, 0.72231219, 0.71438383, 0.70766374])"
      ]
     },
     "execution_count": 48,
     "metadata": {},
     "output_type": "execute_result"
    }
   ],
   "source": [
    "r_"
   ]
  },
  {
   "cell_type": "code",
   "execution_count": 49,
   "metadata": {},
   "outputs": [
    {
     "data": {
      "text/plain": [
       "0.9998655479723112"
      ]
     },
     "execution_count": 49,
     "metadata": {},
     "output_type": "execute_result"
    }
   ],
   "source": [
    "clf.score(L, r)"
   ]
  },
  {
   "cell_type": "code",
   "execution_count": 50,
   "metadata": {},
   "outputs": [],
   "source": [
    "grid_s = s.reshape(Ny, Nx)"
   ]
  },
  {
   "cell_type": "code",
   "execution_count": 51,
   "metadata": {},
   "outputs": [],
   "source": [
    "grid_s_norm = (grid_s / np.max(np.abs(grid_s)))"
   ]
  },
  {
   "cell_type": "code",
   "execution_count": 52,
   "metadata": {},
   "outputs": [
    {
     "data": {
      "image/png": "[encoded data removed]",
      "text/plain": [
       "<Figure size 640x480 with 2 Axes>"
      ]
     },
     "metadata": {},
     "output_type": "display_data"
    }
   ],
   "source": [
    "from matplotlib import pyplot as plt\n",
    "plt.imshow(grid_s_norm, extent=[-1,1,-1,1], cmap = 'magma', origin='lower')\n",
    "plt.colorbar()\n",
    "plt.show()"
   ]
  }
 ],
 "metadata": {
  "kernelspec": {
   "display_name": "inverse-pde",
   "language": "python",
   "name": "python3"
  },
  "language_info": {
   "codemirror_mode": {
    "name": "ipython",
    "version": 3
   },
   "file_extension": ".py",
   "mimetype": "text/x-python",
   "name": "python",
   "nbconvert_exporter": "python",
   "pygments_lexer": "ipython3",
   "version": "3.12.2"
  }
 },
 "nbformat": 4,
 "nbformat_minor": 2
}
